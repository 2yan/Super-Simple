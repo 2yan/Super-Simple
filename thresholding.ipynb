{
 "cells": [
  {
   "cell_type": "code",
   "execution_count": 144,
   "metadata": {
    "collapsed": true
   },
   "outputs": [],
   "source": [
    "from datetime import datetime, timedelta\n",
    "import os\n",
    "import time\n",
    "import requests\n",
    "import random\n",
    "import pandas as pd\n",
    "import numpy as np\n",
    "import glob\n",
    "from matplotlib import pyplot as plt\n",
    "import doctor\n",
    "import math\n",
    "from IPython.display import clear_output\n",
    "import main\n",
    "import seaborn as sea\n",
    "import matplotlib.patches as patches\n",
    "import matplotlib as mpl\n",
    "import ryan_tools as rt\n",
    "#import keras as kr\n",
    "import glob"
   ]
  },
  {
   "cell_type": "markdown",
   "metadata": {},
   "source": [
    "### Open"
   ]
  },
  {
   "cell_type": "code",
   "execution_count": 145,
   "metadata": {
    "collapsed": true
   },
   "outputs": [],
   "source": [
    "def plot_candles(candles, signal, fig, ax):\n",
    "    def add_rectangle(i, open_, close,low, high, ax, sig):\n",
    "        x = i - .5\n",
    "        y = min(open_, close)\n",
    "        height = abs(open_ - close)\n",
    "        if sig == 'buy':\n",
    "            color = 'green'\n",
    "            hatch = 'x'\n",
    "        if sig == 'sell':\n",
    "            color = 'red'\n",
    "            hatch = ''\n",
    "            \n",
    "        if sig == 'hold':\n",
    "            color = 'orange'\n",
    "            hatch = ''\n",
    "        ax.add_patch(patches.Rectangle((x, y), .9, height,\n",
    "                                       fill = open_ <= close, facecolor = color,\n",
    "                                       edgecolor = color, hatch = hatch ))\n",
    "        top = max(open_,close)\n",
    "        bottom = min(open_,close)\n",
    "\n",
    "        if low < bottom:\n",
    "            ax.add_line(mpl.lines.Line2D([i,i], [low, bottom], color = color) )\n",
    "\n",
    "            \n",
    "        if high > top:\n",
    "            ax.add_line(mpl.lines.Line2D([i,i], [high, top], color = color) )\n",
    "\n",
    "        \n",
    "    for i, index in enumerate(candles.index):\n",
    "        sig = signal.loc[index]\n",
    "        row = candles.loc[index]\n",
    "        add_rectangle(i, row['open'], row['close'],row['low'], row['high'],  ax, sig)\n",
    "    ax.set_xlim(0, len(candles))\n",
    "    ax.set_ylim(candles['close'].min() *.998, candles['close'].max() * 1.002)\n",
    "    return ax"
   ]
  },
  {
   "cell_type": "code",
   "execution_count": 4,
   "metadata": {
    "collapsed": true
   },
   "outputs": [],
   "source": [
    "def chartio(gran = 60, cans = False, count = False):\n",
    "    if type(cans) == type(False):\n",
    "        cans = aba.get_candles(granularity= gran)\n",
    "    if count == False:\n",
    "        count = len(cans)\n",
    "    mask = cans['open']< cans['close']\n",
    "    signal = pd.Series(index = cans.index )\n",
    "    signal.loc[mask] = 'buy'\n",
    "    signal.loc[~mask] = 'sell'\n",
    "\n",
    "    \n",
    "    \n",
    "    fig, (ax, sig_ax) = plt.subplots(nrows = 2, sharex= False)\n",
    "    fig.set_size_inches(7, 9)\n",
    "    plot_candles(cans[-count:], signal[-count:], fig, ax)\n",
    "    ax.set_xticklabels(cans.index)\n",
    "    ax2 = ax.twinx()\n",
    "    cans.iloc[-count:]['volume'].plot(kind = 'bar', ax = ax2, alpha = 0.3)\n",
    "    \n",
    "\n",
    "    rsi = aba.get_rsi(cans['close'])\n",
    "    macd = aba.get_macd(cans)\n",
    "    rsi.plot(ax = sig_ax, alpha = 0.1)\n",
    "    ax4 = sig_ax.twinx()\n",
    "    macd[['macd', 'macd_signal']].plot(ax = ax4)\n",
    "    plt.show()\n",
    "    "
   ]
  },
  {
   "cell_type": "code",
   "execution_count": 135,
   "metadata": {
    "collapsed": true
   },
   "outputs": [],
   "source": [
    "def get_time_range(start,aba, end, gran = 60):\n",
    "    next_val = start + timedelta(seconds = 200 * gran)\n",
    "    result = pd.DataFrame()\n",
    "    bar = rt.progress_bar((end - start).total_seconds()/(gran* 200))\n",
    "    while next_val < end:\n",
    "        bar.progress()\n",
    "        temp = aba.get_candles(start, next_val, gran)\n",
    "        result = result.append(temp)\n",
    "        start = next_val\n",
    "        next_val = next_val + timedelta(seconds = 200 * gran)\n",
    "    return result"
   ]
  },
  {
   "cell_type": "code",
   "execution_count": 136,
   "metadata": {},
   "outputs": [
    {
     "name": "stdout",
     "output_type": "stream",
     "text": [
      "0o0o0o0o0o0o0o0o0o0o0o0o0o0o0o0o0o0o0o0o0o0o0o0o0o0o0o>                                             | 76.86 % \n",
      "Done: 2 Remaining: 1.6021823514694447, Remaining Time: 2s\n"
     ]
    }
   ],
   "source": [
    "class Test_candles():\n",
    "    abas = None\n",
    "    data =None\n",
    "    def __init__(self, days = 30):\n",
    "            \n",
    "        abas = {}\n",
    "        abas['LTC'] = main.Abathor('LTC-USD')\n",
    "        abas['ETH'] = main.Abathor('ETH-USD')\n",
    "        abas['BTC'] = main.Abathor('BTC-USD')\n",
    "        abas['BCH'] = main.Abathor('BCH-USD')\n",
    "        self.abas = abas\n",
    "        \n",
    "        data = {}\n",
    "        start = datetime.today() - timedelta(days= days)\n",
    "    \n",
    "            \n",
    "        for pair in abas.keys():\n",
    "            aba = abas[pair]\n",
    "            data[pair] = {}\n",
    "            for gran in (60, 60 * 5, 60 * 15, 60 * 60):\n",
    "                data[pair][gran] = get_time_range(start, aba, datetime.today(), gran = gran)\n",
    "\n",
    "        self.data = data\n",
    "    \n",
    "\n",
    "t = Test_candles()"
   ]
  },
  {
   "cell_type": "code",
   "execution_count": 140,
   "metadata": {
    "collapsed": true
   },
   "outputs": [],
   "source": [
    "with open('test_candles', 'wb') as f:\n",
    "    pickle.dump(t, f)"
   ]
  },
  {
   "cell_type": "code",
   "execution_count": 141,
   "metadata": {
    "collapsed": true
   },
   "outputs": [],
   "source": [
    "with open('test_candles', 'rb') as f:\n",
    "    n_t = pickle.load(f)"
   ]
  },
  {
   "cell_type": "code",
   "execution_count": 83,
   "metadata": {
    "collapsed": true
   },
   "outputs": [],
   "source": [
    "\n",
    "class Testy():\n",
    "    cash = None\n",
    "    coin = None\n",
    "    position = None\n",
    "    trades = None\n",
    "    cost = None\n",
    "    trade_history = None\n",
    "    stoploss = None\n",
    "    buy_price = None\n",
    "    target_percent = None\n",
    "    \n",
    "    def __init__(self, cash = 100, coin = 0, position = 'out', stoploss = False, target_percent = False):\n",
    "        assert(position in ('in', 'out'))\n",
    "        self.cash = cash\n",
    "        self.coin = coin\n",
    "        self.position = position\n",
    "        self.trades = 0\n",
    "        self.trade_history = []\n",
    "        self.cost = 0\n",
    "        self.stoploss = stoploss\n",
    "        self.target_percent = target_percent\n",
    "        \n",
    "    def sell(self, p):\n",
    "        if self.position == 'out':\n",
    "            return \n",
    "        self.cash = self.coin * p\n",
    "        self.cost = self.cost + (0.003 * self.cash)\n",
    "        self.coin = 0\n",
    "        self.position = 'out'\n",
    "        self.trades = self.trades + 1\n",
    "        spot = len(self.trade_history) - 1\n",
    "        self.trade_history[spot] = (self.cash - self.trade_history[spot])/self.trade_history[spot]\n",
    "        \n",
    "        return \n",
    "    \n",
    "    def buy(self, p):\n",
    "        if self.position == 'in':\n",
    "            return\n",
    "        self.trade_history.append(self.cash)\n",
    "        self.coin = self.cash/p\n",
    "        self.cost = self.cost + (0.003 * self.cash)\n",
    "        self.cash = 0\n",
    "        self.position = 'in'\n",
    "        self.trades = self.trades + 1\n",
    "        self.buy_price = p\n",
    "        return\n",
    "        \n",
    "\n",
    "    def test_signal(self, prices, signal):\n",
    "        for i in range(len(signal)):\n",
    "            p = prices.iloc[i]\n",
    "            s = signal.iloc[i]\n",
    "            \n",
    "            if (self.stoploss != False) and (self.position) == 'in':\n",
    "                if p <= ((1 - self.stoploss) * self.buy_price):                   \n",
    "                    s = 'sell'\n",
    "            if (self.target_percent != False) and (self.position) == 'in':\n",
    "                if p >= ((1 + self.target_percent) * self.buy_price):\n",
    "                    s = 'sell'\n",
    "                    \n",
    "            if s == 'sell':\n",
    "                self.sell(p)\n",
    "                \n",
    "            if s == 'buy':\n",
    "                self.buy(p)\n",
    "            if s == 'hold':\n",
    "                s = 'hold'\n",
    "                \n",
    "        self.sell(p)\n",
    "        return self.cash, self.coin, self.trades\n",
    "    \n",
    "    def __str__(self):\n",
    "        text = 'Trades {:,.0f} | Cash $ {:.2f} | Cost $ {:,.2f}'.format(self.trades, self.cash, self.cost )\n",
    "        return text\n",
    "    \n",
    "    def study(self):\n",
    "        print(self)\n",
    "        print('Value Distribution')\n",
    "        th = np.array(self.trade_history)\n",
    "        sea.distplot(th, kde = False)\n",
    "        plt.show()\n",
    "        print('Average Change: {:.4f} %'.format(np.mean(th) * 100))\n",
    "        print('Max Drawdown: {:.4f} %'.format(min(th)* 100))\n",
    "    \n",
    "    def get_sharpe(self):\n",
    "        hist = pd.Series(self.trade_history)\n",
    "        hist = hist[hist <0] \n",
    "        returns = (self.cash - 100)/100\n",
    "        return returns/hist.apply(abs).mean()\n",
    "        \n",
    "        \n",
    "        "
   ]
  },
  {
   "cell_type": "code",
   "execution_count": 108,
   "metadata": {},
   "outputs": [
    {
     "name": "stdout",
     "output_type": "stream",
     "text": [
      "Trades 1,660 | Cash $ 43.30 | Cost $ 310.92\n",
      "Value Distribution\n"
     ]
    },
    {
     "data": {
      "image/png": "[encoded data removed]",
      "text/plain": [
       "<matplotlib.figure.Figure at 0x170b553dc88>"
      ]
     },
     "metadata": {},
     "output_type": "display_data"
    },
    {
     "name": "stdout",
     "output_type": "stream",
     "text": [
      "Average Change: -0.0956 %\n",
      "Max Drawdown: -6.2825 %\n"
     ]
    }
   ],
   "source": [
    "rsi = aba.get_rsi(cans, 15)\n",
    "signal = pd.Series(index = cans.index)\n",
    "signal.loc[signal.index] = 'hold'\n",
    "signal.loc[rsi < 30] = 'buy'\n",
    "signal.loc[rsi > 70] = 'sell'\n",
    "\n",
    "test = Testy()\n",
    "test.test_signal(cans['close'], signal)\n",
    "test.study()"
   ]
  },
  {
   "cell_type": "code",
   "execution_count": 98,
   "metadata": {},
   "outputs": [
    {
     "name": "stdout",
     "output_type": "stream",
     "text": [
      "Trades 5,160 | Cash $ 42.50 | Cost $ 1,042.86\n",
      "Value Distribution\n"
     ]
    },
    {
     "data": {
      "image/png": "[encoded data removed]",
      "text/plain": [
       "<matplotlib.figure.Figure at 0x170b8581978>"
      ]
     },
     "metadata": {},
     "output_type": "display_data"
    },
    {
     "name": "stdout",
     "output_type": "stream",
     "text": [
      "Average Change: -0.0311 %\n",
      "Max Drawdown: -2.4622 %\n"
     ]
    }
   ],
   "source": [
    "def signal_generator(cans, aba, bull_rsi, bear_rsi):\n",
    "    macd = aba.get_macd(cans, 800, 40)\n",
    "    bursi = aba.get_rsi(cans, 10)\n",
    "    bersi = aba.get_rsi(cans, 15)\n",
    "    \n",
    "    market = pd.Series(index = cans.index)\n",
    "    market.loc[market.index] = 'sideways'\n",
    "    market.loc[macd['macd'] > macd['macd_signal']] = 'bull'\n",
    "    market.loc[macd['macd'] < macd['macd_signal']] = 'bear'\n",
    " \n",
    "    signal = pd.Series(index = cans.index)\n",
    "    signal.loc[signal.index] = 'hold'\n",
    "    \n",
    "    #In a bull market use bull rsi\n",
    "    signal.loc[(market == 'bull') & (bursi > bull_rsi['high'])] = 'sell'\n",
    "    signal.loc[(market == 'bull') & (bursi < bull_rsi['low'])] = 'buy'\n",
    "    \n",
    "    #In a bear market use bear rsi\n",
    "    signal.loc[(market == 'bear') & (bersi > bear_rsi['high'])] = 'sell'\n",
    "    signal.loc[(market == 'bear') & (bersi < bear_rsi['low'])] = 'buy'\n",
    "    \n",
    "    return signal\n",
    "\n",
    "bull_rsi = {}\n",
    "bull_rsi['high'] = 80\n",
    "bull_rsi['low'] = 50\n",
    "\n",
    "bear_rsi = {}\n",
    "bear_rsi['high'] = 50\n",
    "bear_rsi['low'] = 25\n",
    " \n",
    "x = cans.copy()\n",
    "signal = signal_generator(x, aba, bull_rsi, bear_rsi)\n",
    "\n",
    "testy = Testy(stoploss= .003)\n",
    "testy.test_signal(x['close'], signal)\n",
    "testy.study()"
   ]
  },
  {
   "cell_type": "code",
   "execution_count": 89,
   "metadata": {},
   "outputs": [
    {
     "name": "stdout",
     "output_type": "stream",
     "text": [
      "Trades 2,270 | Cash $ 53.93 | Cost $ 516.93\n",
      "Value Distribution\n"
     ]
    },
    {
     "data": {
      "image/png": "[encoded data removed]",
      "text/plain": [
       "<matplotlib.figure.Figure at 0x170b711fcf8>"
      ]
     },
     "metadata": {},
     "output_type": "display_data"
    },
    {
     "name": "stdout",
     "output_type": "stream",
     "text": [
      "Average Change: -0.0497 %\n",
      "Max Drawdown: -6.5018 %\n"
     ]
    }
   ],
   "source": []
  },
  {
   "cell_type": "code",
   "execution_count": 16,
   "metadata": {
    "collapsed": true
   },
   "outputs": [],
   "source": [
    "def plot_signal(ax, prices, signal):\n",
    "    lim = ax.get_ylim()\n",
    "    last_sig = signal.iloc[0]\n",
    "    batch_x = []\n",
    "    batch_y = []\n",
    "    colors = {'buy':'green',\n",
    "             'sell':'red',\n",
    "             'hold':'blue'}\n",
    "    \n",
    "    for i, s in enumerate(signal):\n",
    "        color = colors[last_sig]\n",
    "        p = prices.iloc[i]\n",
    "        if s == last_sig:\n",
    "            batch_x.append(prices.index[i])\n",
    "            batch_y.append(p)\n",
    "        if s != last_sig:\n",
    "            batch_x.append(prices.index[i])\n",
    "            batch_y.append(p)\n",
    "            ax.plot(batch_x, batch_y, color = color)\n",
    "            batch_x = [prices.index[i]]\n",
    "            batch_y = [p]\n",
    "            if colors[s] != 'blue':\n",
    "                ax.vlines(prices.index[i], lim[0], lim[1], color = colors[s])\n",
    "        last_sig = s\n",
    "    ax.plot(batch_x, batch_y, color = color)\n",
    "            "
   ]
  },
  {
   "cell_type": "code",
   "execution_count": 126,
   "metadata": {
    "scrolled": true
   },
   "outputs": [
    {
     "data": {
      "text/plain": [
       "\"\\nresult = pd.DataFrame(index = list(range(2,1000)))\\nfor index in result.index:\\n    test = test_time_period(x, index, 1)\\n    \\n\\n    result.loc[index, 'cash'] = test.cash\\n    result.loc[index, 'trades'] = test.trades\\n    t = result[~result['cash'].isnull()]\\n    fig, ax = plt.subplots()\\n    ax.plot(t['cash'])\\n    ax.set_ylabel('Money')\\n    ax.set_xlabel('Time Period')\\n    \\n    ax2 = ax.twinx()\\n    ax2.plot(t['trades'], color = 'green')\\n    ax2.set_ylabel('Trade Count')\\n    plt.show()\\n    rt.clear_output(True)\\n    \\n    \""
      ]
     },
     "execution_count": 126,
     "metadata": {},
     "output_type": "execute_result"
    }
   ],
   "source": [
    "def test_time_period(x, time, sd):\n",
    "    data = volume_info(bolinger_signal(x,time, numsd=sd))\n",
    "    data['width'] = data['upper'] - data['lower']\n",
    "    data = data.dropna()\n",
    "    data['signal'] = 'hold'\n",
    "    data.loc[data['close'] < data['avg'], 'signal'] = 'sell'\n",
    "    data.loc[data['close'] > data['upper'], 'signal'] = 'buy'\n",
    "    \n",
    "    test = Testy()\n",
    "    test.test_signal(data['close'], data['signal'])\n",
    "    return test\n",
    "'''\n",
    "result = pd.DataFrame(index = list(range(2,1000)))\n",
    "for index in result.index:\n",
    "    test = test_time_period(x, index, 1)\n",
    "    \n",
    "\n",
    "    result.loc[index, 'cash'] = test.cash\n",
    "    result.loc[index, 'trades'] = test.trades\n",
    "    t = result[~result['cash'].isnull()]\n",
    "    fig, ax = plt.subplots()\n",
    "    ax.plot(t['cash'])\n",
    "    ax.set_ylabel('Money')\n",
    "    ax.set_xlabel('Time Period')\n",
    "    \n",
    "    ax2 = ax.twinx()\n",
    "    ax2.plot(t['trades'], color = 'green')\n",
    "    ax2.set_ylabel('Trade Count')\n",
    "    plt.show()\n",
    "    rt.clear_output(True)\n",
    "    \n",
    "    '''"
   ]
  },
  {
   "cell_type": "markdown",
   "metadata": {},
   "source": [
    "## Buy and Hold"
   ]
  },
  {
   "cell_type": "code",
   "execution_count": 1481,
   "metadata": {},
   "outputs": [
    {
     "data": {
      "text/plain": [
       "dict_keys(['LTC', 'ETH', 'BTC', 'BCH'])"
      ]
     },
     "execution_count": 1481,
     "metadata": {},
     "output_type": "execute_result"
    }
   ],
   "source": [
    "data.keys()"
   ]
  },
  {
   "cell_type": "code",
   "execution_count": 1483,
   "metadata": {},
   "outputs": [
    {
     "name": "stdout",
     "output_type": "stream",
     "text": [
      "Trades 2 | Cash $ 60.39 | Cost $ 0.48\n"
     ]
    }
   ],
   "source": [
    "def do_buy_and_hold(x):\n",
    "    temp = x.copy()\n",
    "    temp['signal'] = 'buy'\n",
    "\n",
    "    test = Testy(stoploss= False)\n",
    "    test.test_signal(temp['close'], temp['signal'])\n",
    "    print(test)\n",
    "    \n",
    "    \n",
    "do_buy_and_hold(data['ETH'])"
   ]
  },
  {
   "cell_type": "code",
   "execution_count": 1521,
   "metadata": {
    "collapsed": true
   },
   "outputs": [],
   "source": [
    "signal = data['ETH']['close'] > 0\n",
    "signal.loc[signal.values] = 'buy'\n",
    "test = Testy()"
   ]
  },
  {
   "cell_type": "code",
   "execution_count": 1522,
   "metadata": {},
   "outputs": [
    {
     "data": {
      "text/plain": [
       "(60.392188207710547, 0, 2)"
      ]
     },
     "execution_count": 1522,
     "metadata": {},
     "output_type": "execute_result"
    }
   ],
   "source": [
    "test.test_signal(data['ETH']['close'], signal)"
   ]
  },
  {
   "cell_type": "code",
   "execution_count": 1525,
   "metadata": {},
   "outputs": [
    {
     "data": {
      "text/plain": [
       "60.392188207710547"
      ]
     },
     "execution_count": 1525,
     "metadata": {},
     "output_type": "execute_result"
    }
   ],
   "source": [
    "test.cash"
   ]
  },
  {
   "cell_type": "code",
   "execution_count": 1527,
   "metadata": {},
   "outputs": [
    {
     "ename": "TypeError",
     "evalue": "Argument 'arr' has incorrect type (expected numpy.ndarray, got Series)",
     "output_type": "error",
     "traceback": [
      "\u001b[1;31m---------------------------------------------------------------------------\u001b[0m",
      "\u001b[1;31mKeyboardInterrupt\u001b[0m                         Traceback (most recent call last)",
      "\u001b[1;32m~\\Anaconda3\\lib\\site-packages\\pandas\\core\\series.py\u001b[0m in \u001b[0;36m_ixs\u001b[1;34m(self, i, axis)\u001b[0m\n\u001b[0;32m    571\u001b[0m             \u001b[0mvalues\u001b[0m \u001b[1;33m=\u001b[0m \u001b[0mself\u001b[0m\u001b[1;33m.\u001b[0m\u001b[0m_values\u001b[0m\u001b[1;33m\u001b[0m\u001b[0m\n\u001b[1;32m--> 572\u001b[1;33m             \u001b[1;32mif\u001b[0m \u001b[0misinstance\u001b[0m\u001b[1;33m(\u001b[0m\u001b[0mvalues\u001b[0m\u001b[1;33m,\u001b[0m \u001b[0mnp\u001b[0m\u001b[1;33m.\u001b[0m\u001b[0mndarray\u001b[0m\u001b[1;33m)\u001b[0m\u001b[1;33m:\u001b[0m\u001b[1;33m\u001b[0m\u001b[0m\n\u001b[0m\u001b[0;32m    573\u001b[0m                 \u001b[1;32mreturn\u001b[0m \u001b[0mlibindex\u001b[0m\u001b[1;33m.\u001b[0m\u001b[0mget_value_at\u001b[0m\u001b[1;33m(\u001b[0m\u001b[0mvalues\u001b[0m\u001b[1;33m,\u001b[0m \u001b[0mi\u001b[0m\u001b[1;33m)\u001b[0m\u001b[1;33m\u001b[0m\u001b[0m\n",
      "\u001b[1;31mKeyboardInterrupt\u001b[0m: ",
      "\nDuring handling of the above exception, another exception occurred:\n",
      "\u001b[1;31mTypeError\u001b[0m                                 Traceback (most recent call last)",
      "\u001b[1;32m<ipython-input-1527-9545af01ba37>\u001b[0m in \u001b[0;36m<module>\u001b[1;34m()\u001b[0m\n\u001b[0;32m     61\u001b[0m         \u001b[0mtarget_percent\u001b[0m \u001b[1;33m=\u001b[0m \u001b[0mnp\u001b[0m\u001b[1;33m.\u001b[0m\u001b[0mrandom\u001b[0m\u001b[1;33m.\u001b[0m\u001b[0mrandint\u001b[0m\u001b[1;33m(\u001b[0m\u001b[1;36m0\u001b[0m\u001b[1;33m,\u001b[0m \u001b[1;36m300\u001b[0m\u001b[1;33m)\u001b[0m\u001b[1;33m/\u001b[0m\u001b[1;36m1000\u001b[0m\u001b[1;33m\u001b[0m\u001b[0m\n\u001b[0;32m     62\u001b[0m         \u001b[0mflip\u001b[0m \u001b[1;33m=\u001b[0m \u001b[0mbool\u001b[0m\u001b[1;33m(\u001b[0m\u001b[0mnp\u001b[0m\u001b[1;33m.\u001b[0m\u001b[0mrandom\u001b[0m\u001b[1;33m.\u001b[0m\u001b[0mrandint\u001b[0m\u001b[1;33m(\u001b[0m\u001b[1;36m0\u001b[0m\u001b[1;33m,\u001b[0m\u001b[1;36m2\u001b[0m\u001b[1;33m)\u001b[0m\u001b[1;33m)\u001b[0m\u001b[1;33m\u001b[0m\u001b[0m\n\u001b[1;32m---> 63\u001b[1;33m         \u001b[0mr\u001b[0m\u001b[1;33m,\u001b[0m \u001b[0mtester\u001b[0m \u001b[1;33m=\u001b[0m \u001b[0mtry_things\u001b[0m\u001b[1;33m(\u001b[0m\u001b[0mx\u001b[0m\u001b[1;33m,\u001b[0m \u001b[0msignal_time\u001b[0m\u001b[1;33m,\u001b[0m \u001b[0mdeviation\u001b[0m\u001b[1;33m,\u001b[0m \u001b[0mmax_loss\u001b[0m\u001b[1;33m,\u001b[0m \u001b[0mtarget_percent\u001b[0m\u001b[1;33m,\u001b[0m \u001b[0mflip\u001b[0m\u001b[1;33m)\u001b[0m\u001b[1;33m\u001b[0m\u001b[0m\n\u001b[0m\u001b[0;32m     64\u001b[0m         \u001b[0mcashes\u001b[0m\u001b[1;33m.\u001b[0m\u001b[0mappend\u001b[0m\u001b[1;33m(\u001b[0m\u001b[0mtest\u001b[0m\u001b[1;33m.\u001b[0m\u001b[0mcash\u001b[0m\u001b[1;33m)\u001b[0m\u001b[1;33m\u001b[0m\u001b[0m\n\u001b[0;32m     65\u001b[0m         \u001b[0msharpes\u001b[0m\u001b[1;33m.\u001b[0m\u001b[0mappend\u001b[0m\u001b[1;33m(\u001b[0m\u001b[0mr\u001b[0m\u001b[1;33m[\u001b[0m\u001b[1;34m'sharpe'\u001b[0m\u001b[1;33m]\u001b[0m\u001b[1;33m)\u001b[0m\u001b[1;33m\u001b[0m\u001b[0m\n",
      "\u001b[1;32m<ipython-input-1527-9545af01ba37>\u001b[0m in \u001b[0;36mtry_things\u001b[1;34m(x, signal_time, deviation, max_loss, target_percent, flip)\u001b[0m\n\u001b[0;32m     12\u001b[0m \u001b[1;33m\u001b[0m\u001b[0m\n\u001b[0;32m     13\u001b[0m     \u001b[0mtest\u001b[0m \u001b[1;33m=\u001b[0m \u001b[0mTesty\u001b[0m\u001b[1;33m(\u001b[0m\u001b[0mstoploss\u001b[0m\u001b[1;33m=\u001b[0m \u001b[0mmax_loss\u001b[0m\u001b[1;33m,\u001b[0m \u001b[0mtarget_percent\u001b[0m\u001b[1;33m=\u001b[0m \u001b[0mtarget_percent\u001b[0m\u001b[1;33m)\u001b[0m\u001b[1;33m\u001b[0m\u001b[0m\n\u001b[1;32m---> 14\u001b[1;33m     \u001b[0mtest\u001b[0m\u001b[1;33m.\u001b[0m\u001b[0mtest_signal\u001b[0m\u001b[1;33m(\u001b[0m\u001b[0mdata\u001b[0m\u001b[1;33m[\u001b[0m\u001b[1;34m'close'\u001b[0m\u001b[1;33m]\u001b[0m\u001b[1;33m,\u001b[0m \u001b[0mdata\u001b[0m\u001b[1;33m[\u001b[0m\u001b[1;34m'signal'\u001b[0m\u001b[1;33m]\u001b[0m\u001b[1;33m)\u001b[0m\u001b[1;33m\u001b[0m\u001b[0m\n\u001b[0m\u001b[0;32m     15\u001b[0m \u001b[1;33m\u001b[0m\u001b[0m\n\u001b[0;32m     16\u001b[0m     \u001b[1;32mdef\u001b[0m \u001b[0mmmean\u001b[0m\u001b[1;33m(\u001b[0m\u001b[0mlisto\u001b[0m\u001b[1;33m)\u001b[0m\u001b[1;33m:\u001b[0m\u001b[1;33m\u001b[0m\u001b[0m\n",
      "\u001b[1;32m<ipython-input-1498-bed155d9aba1>\u001b[0m in \u001b[0;36mtest_signal\u001b[1;34m(self, prices, signal)\u001b[0m\n\u001b[0;32m     49\u001b[0m     \u001b[1;32mdef\u001b[0m \u001b[0mtest_signal\u001b[0m\u001b[1;33m(\u001b[0m\u001b[0mself\u001b[0m\u001b[1;33m,\u001b[0m \u001b[0mprices\u001b[0m\u001b[1;33m,\u001b[0m \u001b[0msignal\u001b[0m\u001b[1;33m)\u001b[0m\u001b[1;33m:\u001b[0m\u001b[1;33m\u001b[0m\u001b[0m\n\u001b[0;32m     50\u001b[0m         \u001b[1;32mfor\u001b[0m \u001b[0mi\u001b[0m \u001b[1;32min\u001b[0m \u001b[0mrange\u001b[0m\u001b[1;33m(\u001b[0m\u001b[0mlen\u001b[0m\u001b[1;33m(\u001b[0m\u001b[0msignal\u001b[0m\u001b[1;33m)\u001b[0m\u001b[1;33m)\u001b[0m\u001b[1;33m:\u001b[0m\u001b[1;33m\u001b[0m\u001b[0m\n\u001b[1;32m---> 51\u001b[1;33m             \u001b[0mp\u001b[0m \u001b[1;33m=\u001b[0m \u001b[0mprices\u001b[0m\u001b[1;33m.\u001b[0m\u001b[0miloc\u001b[0m\u001b[1;33m[\u001b[0m\u001b[0mi\u001b[0m\u001b[1;33m]\u001b[0m\u001b[1;33m\u001b[0m\u001b[0m\n\u001b[0m\u001b[0;32m     52\u001b[0m             \u001b[0ms\u001b[0m \u001b[1;33m=\u001b[0m \u001b[0msignal\u001b[0m\u001b[1;33m.\u001b[0m\u001b[0miloc\u001b[0m\u001b[1;33m[\u001b[0m\u001b[0mi\u001b[0m\u001b[1;33m]\u001b[0m\u001b[1;33m\u001b[0m\u001b[0m\n\u001b[0;32m     53\u001b[0m \u001b[1;33m\u001b[0m\u001b[0m\n",
      "\u001b[1;32m~\\Anaconda3\\lib\\site-packages\\pandas\\core\\indexing.py\u001b[0m in \u001b[0;36m__getitem__\u001b[1;34m(self, key)\u001b[0m\n\u001b[0;32m   1326\u001b[0m         \u001b[1;32melse\u001b[0m\u001b[1;33m:\u001b[0m\u001b[1;33m\u001b[0m\u001b[0m\n\u001b[0;32m   1327\u001b[0m             \u001b[0mkey\u001b[0m \u001b[1;33m=\u001b[0m \u001b[0mcom\u001b[0m\u001b[1;33m.\u001b[0m\u001b[0m_apply_if_callable\u001b[0m\u001b[1;33m(\u001b[0m\u001b[0mkey\u001b[0m\u001b[1;33m,\u001b[0m \u001b[0mself\u001b[0m\u001b[1;33m.\u001b[0m\u001b[0mobj\u001b[0m\u001b[1;33m)\u001b[0m\u001b[1;33m\u001b[0m\u001b[0m\n\u001b[1;32m-> 1328\u001b[1;33m             \u001b[1;32mreturn\u001b[0m \u001b[0mself\u001b[0m\u001b[1;33m.\u001b[0m\u001b[0m_getitem_axis\u001b[0m\u001b[1;33m(\u001b[0m\u001b[0mkey\u001b[0m\u001b[1;33m,\u001b[0m \u001b[0maxis\u001b[0m\u001b[1;33m=\u001b[0m\u001b[1;36m0\u001b[0m\u001b[1;33m)\u001b[0m\u001b[1;33m\u001b[0m\u001b[0m\n\u001b[0m\u001b[0;32m   1329\u001b[0m \u001b[1;33m\u001b[0m\u001b[0m\n\u001b[0;32m   1330\u001b[0m     \u001b[1;32mdef\u001b[0m \u001b[0m_is_scalar_access\u001b[0m\u001b[1;33m(\u001b[0m\u001b[0mself\u001b[0m\u001b[1;33m,\u001b[0m \u001b[0mkey\u001b[0m\u001b[1;33m)\u001b[0m\u001b[1;33m:\u001b[0m\u001b[1;33m\u001b[0m\u001b[0m\n",
      "\u001b[1;32m~\\Anaconda3\\lib\\site-packages\\pandas\\core\\indexing.py\u001b[0m in \u001b[0;36m_getitem_axis\u001b[1;34m(self, key, axis)\u001b[0m\n\u001b[0;32m   1749\u001b[0m             \u001b[0mself\u001b[0m\u001b[1;33m.\u001b[0m\u001b[0m_is_valid_integer\u001b[0m\u001b[1;33m(\u001b[0m\u001b[0mkey\u001b[0m\u001b[1;33m,\u001b[0m \u001b[0maxis\u001b[0m\u001b[1;33m)\u001b[0m\u001b[1;33m\u001b[0m\u001b[0m\n\u001b[0;32m   1750\u001b[0m \u001b[1;33m\u001b[0m\u001b[0m\n\u001b[1;32m-> 1751\u001b[1;33m             \u001b[1;32mreturn\u001b[0m \u001b[0mself\u001b[0m\u001b[1;33m.\u001b[0m\u001b[0m_get_loc\u001b[0m\u001b[1;33m(\u001b[0m\u001b[0mkey\u001b[0m\u001b[1;33m,\u001b[0m \u001b[0maxis\u001b[0m\u001b[1;33m=\u001b[0m\u001b[0maxis\u001b[0m\u001b[1;33m)\u001b[0m\u001b[1;33m\u001b[0m\u001b[0m\n\u001b[0m\u001b[0;32m   1752\u001b[0m \u001b[1;33m\u001b[0m\u001b[0m\n\u001b[0;32m   1753\u001b[0m     \u001b[1;32mdef\u001b[0m \u001b[0m_convert_to_indexer\u001b[0m\u001b[1;33m(\u001b[0m\u001b[0mself\u001b[0m\u001b[1;33m,\u001b[0m \u001b[0mobj\u001b[0m\u001b[1;33m,\u001b[0m \u001b[0maxis\u001b[0m\u001b[1;33m=\u001b[0m\u001b[1;36m0\u001b[0m\u001b[1;33m,\u001b[0m \u001b[0mis_setter\u001b[0m\u001b[1;33m=\u001b[0m\u001b[1;32mFalse\u001b[0m\u001b[1;33m)\u001b[0m\u001b[1;33m:\u001b[0m\u001b[1;33m\u001b[0m\u001b[0m\n",
      "\u001b[1;32m~\\Anaconda3\\lib\\site-packages\\pandas\\core\\indexing.py\u001b[0m in \u001b[0;36m_get_loc\u001b[1;34m(self, key, axis)\u001b[0m\n\u001b[0;32m    137\u001b[0m \u001b[1;33m\u001b[0m\u001b[0m\n\u001b[0;32m    138\u001b[0m     \u001b[1;32mdef\u001b[0m \u001b[0m_get_loc\u001b[0m\u001b[1;33m(\u001b[0m\u001b[0mself\u001b[0m\u001b[1;33m,\u001b[0m \u001b[0mkey\u001b[0m\u001b[1;33m,\u001b[0m \u001b[0maxis\u001b[0m\u001b[1;33m=\u001b[0m\u001b[1;36m0\u001b[0m\u001b[1;33m)\u001b[0m\u001b[1;33m:\u001b[0m\u001b[1;33m\u001b[0m\u001b[0m\n\u001b[1;32m--> 139\u001b[1;33m         \u001b[1;32mreturn\u001b[0m \u001b[0mself\u001b[0m\u001b[1;33m.\u001b[0m\u001b[0mobj\u001b[0m\u001b[1;33m.\u001b[0m\u001b[0m_ixs\u001b[0m\u001b[1;33m(\u001b[0m\u001b[0mkey\u001b[0m\u001b[1;33m,\u001b[0m \u001b[0maxis\u001b[0m\u001b[1;33m=\u001b[0m\u001b[0maxis\u001b[0m\u001b[1;33m)\u001b[0m\u001b[1;33m\u001b[0m\u001b[0m\n\u001b[0m\u001b[0;32m    140\u001b[0m \u001b[1;33m\u001b[0m\u001b[0m\n\u001b[0;32m    141\u001b[0m     \u001b[1;32mdef\u001b[0m \u001b[0m_slice\u001b[0m\u001b[1;33m(\u001b[0m\u001b[0mself\u001b[0m\u001b[1;33m,\u001b[0m \u001b[0mobj\u001b[0m\u001b[1;33m,\u001b[0m \u001b[0maxis\u001b[0m\u001b[1;33m=\u001b[0m\u001b[1;36m0\u001b[0m\u001b[1;33m,\u001b[0m \u001b[0mkind\u001b[0m\u001b[1;33m=\u001b[0m\u001b[1;32mNone\u001b[0m\u001b[1;33m)\u001b[0m\u001b[1;33m:\u001b[0m\u001b[1;33m\u001b[0m\u001b[0m\n",
      "\u001b[1;32m~\\Anaconda3\\lib\\site-packages\\pandas\\core\\series.py\u001b[0m in \u001b[0;36m_ixs\u001b[1;34m(self, i, axis)\u001b[0m\n\u001b[0;32m    585\u001b[0m                     \u001b[1;32mreturn\u001b[0m \u001b[0mself\u001b[0m\u001b[1;33m.\u001b[0m\u001b[0mtake\u001b[0m\u001b[1;33m(\u001b[0m\u001b[0mi\u001b[0m\u001b[1;33m,\u001b[0m \u001b[0maxis\u001b[0m\u001b[1;33m=\u001b[0m\u001b[0maxis\u001b[0m\u001b[1;33m,\u001b[0m \u001b[0mconvert\u001b[0m\u001b[1;33m=\u001b[0m\u001b[1;32mTrue\u001b[0m\u001b[1;33m)\u001b[0m\u001b[1;33m\u001b[0m\u001b[0m\n\u001b[0;32m    586\u001b[0m                 \u001b[1;32melse\u001b[0m\u001b[1;33m:\u001b[0m\u001b[1;33m\u001b[0m\u001b[0m\n\u001b[1;32m--> 587\u001b[1;33m                     \u001b[1;32mreturn\u001b[0m \u001b[0mlibindex\u001b[0m\u001b[1;33m.\u001b[0m\u001b[0mget_value_at\u001b[0m\u001b[1;33m(\u001b[0m\u001b[0mself\u001b[0m\u001b[1;33m,\u001b[0m \u001b[0mi\u001b[0m\u001b[1;33m)\u001b[0m\u001b[1;33m\u001b[0m\u001b[0m\n\u001b[0m\u001b[0;32m    588\u001b[0m \u001b[1;33m\u001b[0m\u001b[0m\n\u001b[0;32m    589\u001b[0m     \u001b[1;33m@\u001b[0m\u001b[0mproperty\u001b[0m\u001b[1;33m\u001b[0m\u001b[0m\n",
      "\u001b[1;31mTypeError\u001b[0m: Argument 'arr' has incorrect type (expected numpy.ndarray, got Series)"
     ]
    }
   ],
   "source": [
    "def try_things(x, signal_time, deviation, max_loss, target_percent, flip = False):\n",
    "    data = volume_info(bolinger_signal(x,signal_time , deviation))\n",
    "    data = data.dropna()\n",
    "    data['signal'] = 'hold'\n",
    "    bmask = data['close'].rolling(3).mean().bfill() < data['lower']\n",
    "    smask = data['close'].rolling(3).mean().bfill() > data['upper'] \n",
    "    if flip:\n",
    "        bmask,smask = smask,bmask\n",
    "    \n",
    "    data.loc[bmask, 'signal'] = 'buy'\n",
    "    data.loc[smask, 'signal'] = 'sell'\n",
    "        \n",
    "    test = Testy(stoploss= max_loss, target_percent= target_percent)\n",
    "    test.test_signal(data['close'], data['signal'])\n",
    "    \n",
    "    def mmean(listo):\n",
    "        try:\n",
    "            ans = round(np.mean(listo), 4)\n",
    "        except IndexError:\n",
    "            ans = -100\n",
    "        return ans\n",
    "    \n",
    "    trades = np.mean(test.trade_history)\n",
    "    \n",
    "    if flip:\n",
    "        test.cash = test.cash - test.cost\n",
    "        \n",
    "    result = {'signal_time':signal_time,\n",
    "             'deviation':deviation,\n",
    "             'max_loss':max_loss,\n",
    "             'target_percent':target_percent,\n",
    "             'average_gain':mmean(test.trade_history),\n",
    "             'flip':flip,\n",
    "             'sharpe':test.get_sharpe()\n",
    "             }\n",
    "\n",
    "    return result, test\n",
    "\n",
    "def get_score(cashes):\n",
    "\n",
    "            \n",
    "    avg = np.mean(cashes)\n",
    "    small_avg = np.mean(np.sort(cashes[0:2]))\n",
    "    smaller_avg = np.mean(np.sort(cashes[0:1]))\n",
    "\n",
    "    return (avg + small_avg  + smaller_avg + smaller_avg )/4\n",
    "\n",
    "best = -1000000000\n",
    "best_res = []\n",
    "best_cashes = []\n",
    "for num in range(0, 3000):\n",
    "\n",
    "    cashes = []\n",
    "    sharpes = []\n",
    "    \n",
    "    for pair in data.keys():\n",
    "        x = data[pair]\n",
    "        signal_time = np.random.randint(5, 1000)\n",
    "        deviation = np.random.randint(1500,10000)* .0004\n",
    "        max_loss = np.random.randint(0, 300)/1000\n",
    "        target_percent = np.random.randint(0, 300)/1000\n",
    "        flip = bool(np.random.randint(0,2))\n",
    "        r, tester = try_things(x, signal_time, deviation, max_loss, target_percent, flip)\n",
    "        cashes.append(test.cash)\n",
    "        sharpes.append(r['sharpe'])\n",
    "        \n",
    "    delta_sharpe = get_score(sharpes)\n",
    "    \n",
    "    if delta_sharpe > best:\n",
    "        best = delta_sharpe\n",
    "        best_cashes = cashes\n",
    "        best_res.append([r, tester])\n",
    "    print(num)\n",
    "    for thing in best_res:\n",
    "        print(thing[0])\n",
    "        print(thing[1])\n",
    "    \n",
    "    print(best_cashes)\n",
    "    print(cashes)\n",
    "    \n",
    "    clear_output(True)"
   ]
  },
  {
   "cell_type": "code",
   "execution_count": 227,
   "metadata": {
    "scrolled": false
   },
   "outputs": [
    {
     "name": "stdout",
     "output_type": "stream",
     "text": [
      "Trades 22 | Cash $ 111.60 | Cost $ 7.16\n",
      "Trades 460 | Cash $ 60.99 | Cost $ 105.64\n"
     ]
    },
    {
     "data": {
      "image/png": "[encoded data removed]",
      "text/plain": [
       "<matplotlib.figure.Figure at 0x232a8949f60>"
      ]
     },
     "metadata": {},
     "output_type": "display_data"
    },
    {
     "name": "stdout",
     "output_type": "stream",
     "text": [
      "Trades 460 | Cash $ 60.99 | Cost $ 105.64\n",
      "Value Distribution\n"
     ]
    },
    {
     "data": {
      "image/png": "[encoded data removed]",
      "text/plain": [
       "<matplotlib.figure.Figure at 0x232a93c3278>"
      ]
     },
     "metadata": {},
     "output_type": "display_data"
    },
    {
     "name": "stdout",
     "output_type": "stream",
     "text": [
      "Average Change: -0.1734 %\n",
      "Max Drawdown: -12.2150 %\n"
     ]
    }
   ],
   "source": [
    "\n",
    "\n",
    "max_loss = False\n",
    "target_percent = False\n",
    "\n",
    "final = data.copy()\n",
    "final = final.sort_index( ascending = True)\n",
    "day = 15\n",
    "final = final.loc[datetime.today()- timedelta(days = (1 + day)):datetime.today()- timedelta(days = day)]\n",
    "\n",
    "fig, ax = plt.subplots()\n",
    "fig.set_size_inches(13 * 1.3, 8 )\n",
    "test = Testy(stoploss= max_loss, target_percent= target_percent)\n",
    "test.test_signal(final['close'], final['signal'])\n",
    "print(test)\n",
    "\n",
    "\n",
    "test = Testy(stoploss= max_loss, target_percent= target_percent)\n",
    "test.test_signal(data['close'], data['signal'])\n",
    "print(test)\n",
    "\n",
    "\n",
    "ax.plot(final.index, final['upper'], color=  'green')\n",
    "ax.plot(final.index, final['lower'], color=  'green')\n",
    "ax.plot(final.index, final['avg'], color=  'yellow')\n",
    "plot_signal(ax, final['close'], final['signal'])\n",
    "\n",
    "\n",
    "\n",
    "#ax_v = ax.twinx()\n",
    "#ax_v.bar(x = final.index,height=  final['vol_up'], width = 0.0025, alpha = .1, color = 'green')\n",
    "#ax_v.bar(x = final.index,height=  final['vol_down'], width = 0.0025, alpha = .1, color = 'red')\n",
    "    \n",
    "\n",
    "plt.show()\n",
    "test.study()"
   ]
  }
 ],
 "metadata": {
  "kernelspec": {
   "display_name": "Python 3",
   "language": "python",
   "name": "python3"
  },
  "language_info": {
   "codemirror_mode": {
    "name": "ipython",
    "version": 3
   },
   "file_extension": ".py",
   "mimetype": "text/x-python",
   "name": "python",
   "nbconvert_exporter": "python",
   "pygments_lexer": "ipython3",
   "version": "3.6.3"
  }
 },
 "nbformat": 4,
 "nbformat_minor": 2
}
