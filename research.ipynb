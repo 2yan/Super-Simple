{
 "cells": [
  {
   "cell_type": "code",
   "execution_count": 116,
   "metadata": {
    "collapsed": true
   },
   "outputs": [],
   "source": [
    "from datetime import datetime, timedelta\n",
    "import os\n",
    "import time\n",
    "import requests\n",
    "import pandas as pd\n",
    "import numpy as np\n",
    "from matplotlib import pyplot as plt\n",
    "import doctor\n",
    "import math\n",
    "from IPython.display import clear_output\n",
    "import main\n",
    "import seaborn as sea\n",
    "import matplotlib.patches as patches\n",
    "import matplotlib as mpl"
   ]
  },
  {
   "cell_type": "markdown",
   "metadata": {},
   "source": [
    "### Open"
   ]
  },
  {
   "cell_type": "code",
   "execution_count": 14,
   "metadata": {
    "collapsed": true
   },
   "outputs": [],
   "source": [
    "def plot_candles(candles, signal, fig, ax):\n",
    "    def add_rectangle(i, open_, close,low, high, ax, sig):\n",
    "        x = i - .5\n",
    "        y = min(open_, close)\n",
    "        height = abs(open_ - close)\n",
    "        if sig == 'buy':\n",
    "            color = 'green'\n",
    "            hatch = 'x'\n",
    "        if sig == 'sell':\n",
    "            color = 'red'\n",
    "            hatch = ''\n",
    "            \n",
    "        if sig == 'wait':\n",
    "            color = 'orange'\n",
    "            hatch = ''\n",
    "        ax.add_patch(patches.Rectangle((x, y), .9, height,\n",
    "                                       fill = open_ <= close, facecolor = color,\n",
    "                                       edgecolor = color, hatch = hatch ))\n",
    "        top = max(open_,close)\n",
    "        bottom = min(open_,close)\n",
    "\n",
    "        if low < bottom:\n",
    "            ax.add_line(mpl.lines.Line2D([i,i], [low, bottom], color = color) )\n",
    "\n",
    "            \n",
    "        if high > top:\n",
    "            ax.add_line(mpl.lines.Line2D([i,i], [high, top], color = color) )\n",
    "\n",
    "        \n",
    "    for i, index in enumerate(candles.index):\n",
    "        sig = signal.loc[index]\n",
    "        row = candles.loc[index]\n",
    "        add_rectangle(i, row['open'], row['close'],row['low'], row['high'],  ax, sig)\n",
    "    ax.set_xlim(0, len(candles))\n",
    "    ax.set_ylim(candles['close'].min() *.998, candles['close'].max() * 1.002)\n",
    "    return ax"
   ]
  },
  {
   "cell_type": "code",
   "execution_count": 42,
   "metadata": {},
   "outputs": [],
   "source": [
    "def chartio(gran = 60, cans = False, count = False):\n",
    "    if type(cans) == type(False):\n",
    "        cans = aba.get_candles(granularity= gran)\n",
    "    if count == False:\n",
    "        count = len(cans)\n",
    "    mask = cans['open']< cans['close']\n",
    "    signal = pd.Series(index = cans.index )\n",
    "    signal.loc[mask] = 'buy'\n",
    "    signal.loc[~mask] = 'sell'\n",
    "\n",
    "    \n",
    "    \n",
    "    fig, (ax, sig_ax) = plt.subplots(nrows = 2, sharex= False)\n",
    "    fig.set_size_inches(7, 9)\n",
    "    plot_candles(cans[-count:], signal[-count:], fig, ax)\n",
    "    ax.set_xticklabels(cans.index)\n",
    "    ax2 = ax.twinx()\n",
    "    cans.iloc[-count:]['volume'].plot(kind = 'bar', ax = ax2, alpha = 0.3)\n",
    "    \n",
    "\n",
    "    rsi = aba.get_rsi(cans['close'])\n",
    "    macd = aba.get_macd(cans)\n",
    "    rsi.plot(ax = sig_ax, alpha = 0.1)\n",
    "    ax4 = sig_ax.twinx()\n",
    "    macd[['macd', 'macd_signal']].plot(ax = ax4)\n",
    "    plt.show()\n",
    "    "
   ]
  },
  {
   "cell_type": "code",
   "execution_count": 8,
   "metadata": {},
   "outputs": [],
   "source": [
    "aba = main.Abathor('LTC-USD')"
   ]
  },
  {
   "cell_type": "code",
   "execution_count": 117,
   "metadata": {},
   "outputs": [
    {
     "ename": "AttributeError",
     "evalue": "'Abathor' object has no attribute 'time_difference'",
     "output_type": "error",
     "traceback": [
      "\u001b[1;31m---------------------------------------------------------------------------\u001b[0m",
      "\u001b[1;31mAttributeError\u001b[0m                            Traceback (most recent call last)",
      "\u001b[1;32m<ipython-input-117-354779114050>\u001b[0m in \u001b[0;36m<module>\u001b[1;34m()\u001b[0m\n\u001b[1;32m----> 1\u001b[1;33m \u001b[0maba\u001b[0m\u001b[1;33m.\u001b[0m\u001b[0mget_candles\u001b[0m\u001b[1;33m(\u001b[0m\u001b[0mstart\u001b[0m \u001b[1;33m=\u001b[0m \u001b[0mdatetime\u001b[0m\u001b[1;33m.\u001b[0m\u001b[0mtoday\u001b[0m\u001b[1;33m(\u001b[0m\u001b[1;33m)\u001b[0m \u001b[1;33m-\u001b[0m \u001b[0mtimedelta\u001b[0m\u001b[1;33m(\u001b[0m\u001b[0mdays\u001b[0m \u001b[1;33m=\u001b[0m \u001b[1;36m3\u001b[0m\u001b[1;33m)\u001b[0m\u001b[1;33m)\u001b[0m\u001b[1;33m\u001b[0m\u001b[0m\n\u001b[0m",
      "\u001b[1;32m~\\Desktop\\Scripts\\Super Simple\\main.py\u001b[0m in \u001b[0;36mget_candles\u001b[1;34m(self, start, end, granularity)\u001b[0m\n\u001b[0;32m     74\u001b[0m         \u001b[0mparams\u001b[0m \u001b[1;33m=\u001b[0m \u001b[1;33m{\u001b[0m\u001b[1;33m}\u001b[0m\u001b[1;33m\u001b[0m\u001b[0m\n\u001b[0;32m     75\u001b[0m         \u001b[1;32mif\u001b[0m \u001b[0mstart\u001b[0m \u001b[1;32mis\u001b[0m \u001b[1;32mnot\u001b[0m \u001b[1;32mNone\u001b[0m\u001b[1;33m:\u001b[0m\u001b[1;33m\u001b[0m\u001b[0m\n\u001b[1;32m---> 76\u001b[1;33m             \u001b[0mstart\u001b[0m \u001b[1;33m=\u001b[0m \u001b[0mstart\u001b[0m \u001b[1;33m+\u001b[0m \u001b[0mself\u001b[0m\u001b[1;33m.\u001b[0m\u001b[0mtime_difference\u001b[0m\u001b[1;33m\u001b[0m\u001b[0m\n\u001b[0m\u001b[0;32m     77\u001b[0m             \u001b[0mparams\u001b[0m\u001b[1;33m[\u001b[0m\u001b[1;34m'start'\u001b[0m\u001b[1;33m]\u001b[0m \u001b[1;33m=\u001b[0m \u001b[0mstart\u001b[0m\u001b[1;33m.\u001b[0m\u001b[0misoformat\u001b[0m\u001b[1;33m(\u001b[0m\u001b[1;33m)\u001b[0m\u001b[1;33m\u001b[0m\u001b[0m\n\u001b[0;32m     78\u001b[0m         \u001b[1;32mif\u001b[0m \u001b[0mend\u001b[0m \u001b[1;32mis\u001b[0m \u001b[1;32mnot\u001b[0m \u001b[1;32mNone\u001b[0m\u001b[1;33m:\u001b[0m\u001b[1;33m\u001b[0m\u001b[0m\n",
      "\u001b[1;31mAttributeError\u001b[0m: 'Abathor' object has no attribute 'time_difference'"
     ]
    }
   ],
   "source": [
    "aba.get_candles(start = datetime.today() - timedelta(days = 3))"
   ]
  },
  {
   "cell_type": "code",
   "execution_count": 97,
   "metadata": {},
   "outputs": [],
   "source": [
    "candles = aba.get_candles(granularity=60)\n",
    "x = candles.copy()\n",
    "x[['low', 'high', 'open', 'close', 'volume']] = np.log(x[['low', 'high', 'open', 'close', 'volume']]).diff().bfill()\n"
   ]
  },
  {
   "cell_type": "code",
   "execution_count": 113,
   "metadata": {},
   "outputs": [
    {
     "name": "stdout",
     "output_type": "stream",
     "text": [
      "Percent to find: 0.5\n"
     ]
    },
    {
     "data": {
      "text/html": [
       "<div>\n",
       "<style>\n",
       "    .dataframe thead tr:only-child th {\n",
       "        text-align: right;\n",
       "    }\n",
       "\n",
       "    .dataframe thead th {\n",
       "        text-align: left;\n",
       "    }\n",
       "\n",
       "    .dataframe tbody tr th {\n",
       "        vertical-align: top;\n",
       "    }\n",
       "</style>\n",
       "<table border=\"1\" class=\"dataframe\">\n",
       "  <thead>\n",
       "    <tr style=\"text-align: right;\">\n",
       "      <th></th>\n",
       "      <th>low</th>\n",
       "      <th>high</th>\n",
       "      <th>open</th>\n",
       "      <th>close</th>\n",
       "      <th>volume</th>\n",
       "      <th>timestamp</th>\n",
       "    </tr>\n",
       "    <tr>\n",
       "      <th>time</th>\n",
       "      <th></th>\n",
       "      <th></th>\n",
       "      <th></th>\n",
       "      <th></th>\n",
       "      <th></th>\n",
       "      <th></th>\n",
       "    </tr>\n",
       "  </thead>\n",
       "  <tbody>\n",
       "    <tr>\n",
       "      <th>2018-02-20 07:56:00</th>\n",
       "      <td>238.55</td>\n",
       "      <td>239.89</td>\n",
       "      <td>238.55</td>\n",
       "      <td>239.89</td>\n",
       "      <td>456.473898</td>\n",
       "      <td>1519142160</td>\n",
       "    </tr>\n",
       "    <tr>\n",
       "      <th>2018-02-20 07:57:00</th>\n",
       "      <td>239.89</td>\n",
       "      <td>241.12</td>\n",
       "      <td>239.89</td>\n",
       "      <td>241.12</td>\n",
       "      <td>165.236596</td>\n",
       "      <td>1519142220</td>\n",
       "    </tr>\n",
       "    <tr>\n",
       "      <th>2018-02-20 08:07:00</th>\n",
       "      <td>242.90</td>\n",
       "      <td>245.24</td>\n",
       "      <td>242.90</td>\n",
       "      <td>245.24</td>\n",
       "      <td>369.625916</td>\n",
       "      <td>1519142820</td>\n",
       "    </tr>\n",
       "    <tr>\n",
       "      <th>2018-02-20 08:51:00</th>\n",
       "      <td>244.32</td>\n",
       "      <td>245.70</td>\n",
       "      <td>244.32</td>\n",
       "      <td>245.70</td>\n",
       "      <td>318.631327</td>\n",
       "      <td>1519145460</td>\n",
       "    </tr>\n",
       "  </tbody>\n",
       "</table>\n",
       "</div>"
      ],
      "text/plain": [
       "                        low    high    open   close      volume   timestamp\n",
       "time                                                                       \n",
       "2018-02-20 07:56:00  238.55  239.89  238.55  239.89  456.473898  1519142160\n",
       "2018-02-20 07:57:00  239.89  241.12  239.89  241.12  165.236596  1519142220\n",
       "2018-02-20 08:07:00  242.90  245.24  242.90  245.24  369.625916  1519142820\n",
       "2018-02-20 08:51:00  244.32  245.70  244.32  245.70  318.631327  1519145460"
      ]
     },
     "execution_count": 113,
     "metadata": {},
     "output_type": "execute_result"
    }
   ],
   "source": [
    "percent = .5\n",
    "print('Percent to find: {}'.format(percent))\n",
    "candles.loc[x[x['close'] >= percent /100].index]"
   ]
  },
  {
   "cell_type": "code",
   "execution_count": 114,
   "metadata": {},
   "outputs": [
    {
     "data": {
      "image/png": "[encoded data removed]",
      "text/plain": [
       "<matplotlib.figure.Figure at 0x1d5a4668>"
      ]
     },
     "metadata": {},
     "output_type": "display_data"
    }
   ],
   "source": [
    "sea.distplot(x['close'])\n",
    "plt.show()"
   ]
  },
  {
   "cell_type": "code",
   "execution_count": 88,
   "metadata": {},
   "outputs": [
    {
     "data": {
      "image/png": "[encoded data removed]",
      "text/plain": [
       "<matplotlib.figure.Figure at 0x1debedd8>"
      ]
     },
     "metadata": {},
     "output_type": "display_data"
    }
   ],
   "source": [
    "\n",
    "\n",
    "fig, ax = plt.subplots()\n",
    "candles[20:54]['close'].plot(kind = 'line', ax = ax, color = 'red')\n",
    "ax2 = ax.twinx()\n",
    "x[20:54]['close'].plot( kind  = 'line', ax = ax2, color = 'green')\n",
    "\n",
    "plt.show()"
   ]
  }
 ],
 "metadata": {
  "kernelspec": {
   "display_name": "Python 3",
   "language": "python",
   "name": "python3"
  },
  "language_info": {
   "codemirror_mode": {
    "name": "ipython",
    "version": 3
   },
   "file_extension": ".py",
   "mimetype": "text/x-python",
   "name": "python",
   "nbconvert_exporter": "python",
   "pygments_lexer": "ipython3",
   "version": "3.6.3"
  }
 },
 "nbformat": 4,
 "nbformat_minor": 2
}
