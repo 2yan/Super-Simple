{
 "cells": [
  {
   "cell_type": "code",
   "execution_count": 247,
   "metadata": {},
   "outputs": [],
   "source": [
    "from datetime import datetime, timedelta\n",
    "import os\n",
    "import time\n",
    "import requests\n",
    "import random\n",
    "import pandas as pd\n",
    "import numpy as np\n",
    "from matplotlib import pyplot as plt\n",
    "import doctor\n",
    "import math\n",
    "from IPython.display import clear_output\n",
    "import main\n",
    "import seaborn as sea\n",
    "import matplotlib.patches as patches\n",
    "import matplotlib as mpl\n",
    "import ryan_tools as rt\n",
    "import keras as kr\n",
    "import glob"
   ]
  },
  {
   "cell_type": "markdown",
   "metadata": {},
   "source": [
    "### Open"
   ]
  },
  {
   "cell_type": "code",
   "execution_count": 2,
   "metadata": {
    "collapsed": true
   },
   "outputs": [],
   "source": [
    "def plot_candles(candles, signal, fig, ax):\n",
    "    def add_rectangle(i, open_, close,low, high, ax, sig):\n",
    "        x = i - .5\n",
    "        y = min(open_, close)\n",
    "        height = abs(open_ - close)\n",
    "        if sig == 'buy':\n",
    "            color = 'green'\n",
    "            hatch = 'x'\n",
    "        if sig == 'sell':\n",
    "            color = 'red'\n",
    "            hatch = ''\n",
    "            \n",
    "        if sig == 'wait':\n",
    "            color = 'orange'\n",
    "            hatch = ''\n",
    "        ax.add_patch(patches.Rectangle((x, y), .9, height,\n",
    "                                       fill = open_ <= close, facecolor = color,\n",
    "                                       edgecolor = color, hatch = hatch ))\n",
    "        top = max(open_,close)\n",
    "        bottom = min(open_,close)\n",
    "\n",
    "        if low < bottom:\n",
    "            ax.add_line(mpl.lines.Line2D([i,i], [low, bottom], color = color) )\n",
    "\n",
    "            \n",
    "        if high > top:\n",
    "            ax.add_line(mpl.lines.Line2D([i,i], [high, top], color = color) )\n",
    "\n",
    "        \n",
    "    for i, index in enumerate(candles.index):\n",
    "        sig = signal.loc[index]\n",
    "        row = candles.loc[index]\n",
    "        add_rectangle(i, row['open'], row['close'],row['low'], row['high'],  ax, sig)\n",
    "    ax.set_xlim(0, len(candles))\n",
    "    ax.set_ylim(candles['close'].min() *.998, candles['close'].max() * 1.002)\n",
    "    return ax"
   ]
  },
  {
   "cell_type": "code",
   "execution_count": 3,
   "metadata": {
    "collapsed": true
   },
   "outputs": [],
   "source": [
    "def chartio(gran = 60, cans = False, count = False):\n",
    "    if type(cans) == type(False):\n",
    "        cans = aba.get_candles(granularity= gran)\n",
    "    if count == False:\n",
    "        count = len(cans)\n",
    "    mask = cans['open']< cans['close']\n",
    "    signal = pd.Series(index = cans.index )\n",
    "    signal.loc[mask] = 'buy'\n",
    "    signal.loc[~mask] = 'sell'\n",
    "\n",
    "    \n",
    "    \n",
    "    fig, (ax, sig_ax) = plt.subplots(nrows = 2, sharex= False)\n",
    "    fig.set_size_inches(7, 9)\n",
    "    plot_candles(cans[-count:], signal[-count:], fig, ax)\n",
    "    ax.set_xticklabels(cans.index)\n",
    "    ax2 = ax.twinx()\n",
    "    cans.iloc[-count:]['volume'].plot(kind = 'bar', ax = ax2, alpha = 0.3)\n",
    "    \n",
    "\n",
    "    rsi = aba.get_rsi(cans['close'])\n",
    "    macd = aba.get_macd(cans)\n",
    "    rsi.plot(ax = sig_ax, alpha = 0.1)\n",
    "    ax4 = sig_ax.twinx()\n",
    "    macd[['macd', 'macd_signal']].plot(ax = ax4)\n",
    "    plt.show()\n",
    "    "
   ]
  },
  {
   "cell_type": "code",
   "execution_count": 4,
   "metadata": {
    "collapsed": true
   },
   "outputs": [],
   "source": [
    "aba = main.Abathor('LTC-USD')"
   ]
  },
  {
   "cell_type": "code",
   "execution_count": 241,
   "metadata": {
    "collapsed": true
   },
   "outputs": [],
   "source": [
    "def save_observations(observations):\n",
    "    for i, df in enumerate( observations):\n",
    "        dire = os.getcwd() + '\\\\data\\\\{}.pkl'.format(i)\n",
    "        df.to_pickle(dire)"
   ]
  },
  {
   "cell_type": "code",
   "execution_count": 264,
   "metadata": {
    "collapsed": true
   },
   "outputs": [],
   "source": [
    "def load_observations():\n",
    "    observations = []\n",
    "    os.chdir('data')\n",
    "    for file in glob.glob('*.pkl'):\n",
    "        observations.append(pd.read_pickle(file))\n",
    "    os.chdir('..')\n",
    "    return observations"
   ]
  },
  {
   "cell_type": "code",
   "execution_count": 553,
   "metadata": {
    "collapsed": true
   },
   "outputs": [],
   "source": [
    "observations = load_observations()\n",
    "save_observations(observations)"
   ]
  },
  {
   "cell_type": "code",
   "execution_count": 544,
   "metadata": {
    "collapsed": true
   },
   "outputs": [],
   "source": [
    "def get_random_candles(seconds = 60.00):\n",
    "    days = np.random.randint(1, 500)\n",
    "    hours = np.random.randint(0, 12)\n",
    "    minutes = np.random.randint(0,60)\n",
    "    start = datetime.today() - timedelta(days = days, hours = hours, minutes = minutes )\n",
    "    end = start + timedelta(seconds = seconds * 200)\n",
    "    cans =  aba.get_candles(start, end, granularity = seconds)\n",
    "    observations.append(cans)\n",
    "    save_observations(observations)\n",
    "    return cans"
   ]
  },
  {
   "cell_type": "code",
   "execution_count": 267,
   "metadata": {},
   "outputs": [
    {
     "name": "stdout",
     "output_type": "stream",
     "text": [
      "0o0o0o0o0o0o0o0o0o0o0o0o0o0o0o0o0o0o0o0o0o0o0o0o0o0o0o0o0o0o0o0o0o0o0o0o0o0o0o0o0o0o0o0o0o0o0o0o0o> | 100.00 % \n",
      "Done: 99 Remaining: 1, Remaining Time: 0s\n"
     ]
    }
   ],
   "source": [
    "to_download = 100\n",
    "bar = rt.progress_bar(to_download)\n",
    "for num in range(0, to_download):\n",
    "    get_random_candles()\n",
    "    bar.progress()"
   ]
  },
  {
   "cell_type": "code",
   "execution_count": 478,
   "metadata": {
    "collapsed": true
   },
   "outputs": [],
   "source": [
    "def create_data(candle_list, candles_before = 10):\n",
    "    X = []\n",
    "    y = []\n",
    "    ar = np.array\n",
    "    bar = rt.progress_bar(len(candle_list))\n",
    "    for candles in candle_list:\n",
    "        bar.progress()\n",
    "        changes = candles.copy()\n",
    "        candles['minutes'] = (candles.index - candles.index.min()).seconds / 60\n",
    "        changes[['low', 'high', 'open', 'close', 'volume']] = np.log(changes[['low', 'high', 'open', 'close', 'volume']]).diff().bfill()\n",
    "        changes['minutes'] = candles['minutes']\n",
    "        for index in changes.index:\n",
    "            change_percent = changes.loc[index, 'close']\n",
    "            all_before = changes.loc[:index]\n",
    "            amount = len(all_before)\n",
    "            if amount > candles_before + 2:\n",
    "                Xi = all_before.iloc[amount - (candles_before+ 2):amount-2]\n",
    "                Xi = ar(Xi[['low', 'high', 'open', 'close', 'volume', 'minutes']].values)\n",
    "                X.append(Xi)\n",
    "                y.append(change_percent)\n",
    "    X, y =  ar(X), ar(y)\n",
    "    return X, y\n",
    "    "
   ]
  },
  {
   "cell_type": "code",
   "execution_count": 479,
   "metadata": {},
   "outputs": [],
   "source": [
    "def make_samples_even(X,y, target_ratio = .8 ):\n",
    "    X = list(X)\n",
    "    y = list(y)\n",
    "    \n",
    "    def get_ratio(y):\n",
    "        total = len(y)\n",
    "        wins = np.sum(y)\n",
    "        losses = total - wins\n",
    "        return wins/losses\n",
    "    \n",
    "    def add_another(X, y, windexes):\n",
    "        to_add = np.random.choice(windexes)\n",
    "        X.append(X[to_add])\n",
    "        y.append(y[to_add])\n",
    "    ratio = get_ratio(y)\n",
    "    \n",
    "    while ratio < target_ratio:\n",
    "        windexes = [i for i,val in enumerate(y) if val==1]\n",
    "        for num in range(0, 500):\n",
    "            add_another(X, y, windexes)\n",
    "\n",
    "        ratio = get_ratio(y)\n",
    "        print(ratio)\n",
    "        clear_output(True)\n",
    "        \n",
    "    return np.array(X), np.array(y)\n"
   ]
  },
  {
   "cell_type": "code",
   "execution_count": 512,
   "metadata": {
    "collapsed": true
   },
   "outputs": [],
   "source": [
    "observations = load_observations()"
   ]
  },
  {
   "cell_type": "code",
   "execution_count": 561,
   "metadata": {},
   "outputs": [
    {
     "name": "stdout",
     "output_type": "stream",
     "text": [
      "0o0o0o0o0o0o0o0o0o0o0o0o0o0o0o0o0o0o0o0o0o0o0o0o0o0o0o0o0o0o0o0o0o0o0o0o0o0o0o0o0o0o0o0o0o0o0o0o0o> | 100.00 % \n",
      "Done: 449 Remaining: 1, Remaining Time: 0s\n"
     ]
    }
   ],
   "source": [
    "candles_before = 25\n",
    "X, y = create_data(observations, candles_before)\n",
    "#temp = pd.DataFrame(Y, columns = ['y'])\n",
    "#mask = temp['y'] >= 0.005\n",
    "#temp.loc[mask, 'new_y'] = 1\n",
    "#temp.loc[~mask, 'new_y'] = 0\n",
    "#y = temp['new_y'].values\n"
   ]
  },
  {
   "cell_type": "code",
   "execution_count": 516,
   "metadata": {},
   "outputs": [
    {
     "data": {
      "text/plain": [
       "0.0192584316737658"
      ]
     },
     "execution_count": 516,
     "metadata": {},
     "output_type": "execute_result"
    }
   ],
   "source": [
    "#y.sum()/len(y)"
   ]
  },
  {
   "cell_type": "code",
   "execution_count": 534,
   "metadata": {},
   "outputs": [
    {
     "name": "stdout",
     "output_type": "stream",
     "text": [
      "1.002178680260872\n"
     ]
    }
   ],
   "source": [
    "#X,y  = make_samples_even(X, y, 1 )"
   ]
  },
  {
   "cell_type": "code",
   "execution_count": 581,
   "metadata": {
    "collapsed": true
   },
   "outputs": [],
   "source": [
    "def generate_model(X, y):\n",
    "    model = kr.models.Sequential()\n",
    "    model.add(kr.layers.LSTM(2**4, input_shape=X.shape[1:],return_sequences=False))\n",
    "    #model.add(kr.layers.Dropout(0.05))\n",
    "    model.add(kr.layers.Dense(2**8))\n",
    "    model.add(kr.layers.Dense(1))\n",
    "    #model.add(kr.layers.Activation('sigmoid'))\n",
    "    #optimizer = kr.optimizers.RMSprop(lr=0.001)\n",
    "    optimizer = kr.optimizers.Adam(0.001)\n",
    "    model.compile(loss='mean_squared_error', optimizer=optimizer)\n",
    "    return model\n",
    "\n",
    "model = generate_model(X, y)"
   ]
  },
  {
   "cell_type": "code",
   "execution_count": 582,
   "metadata": {},
   "outputs": [
    {
     "name": "stdout",
     "output_type": "stream",
     "text": [
      "Epoch 1/1\n",
      "10/10 [==============================] - 3s 293ms/step - loss: 0.4396\n"
     ]
    },
    {
     "data": {
      "text/plain": [
       "<keras.callbacks.History at 0x83779320>"
      ]
     },
     "execution_count": 582,
     "metadata": {},
     "output_type": "execute_result"
    }
   ],
   "source": [
    "model.fit(X[:10], y[:10])"
   ]
  },
  {
   "cell_type": "code",
   "execution_count": 518,
   "metadata": {
    "collapsed": true
   },
   "outputs": [],
   "source": [
    "def convert_cans_to_shape(cans):\n",
    "    changes = candles.copy()\n",
    "    changes[['low', 'high', 'open', 'close', 'volume']] = np.log(changes[['low', 'high', 'open', 'close', 'volume']]).diff().bfill()\n",
    "    changes = changes[['low', 'high', 'open', 'close', 'volume']] \n",
    "    temp = changes.iloc[-candles_before:].values\n",
    "\n",
    "    return np.array([temp])"
   ]
  },
  {
   "cell_type": "code",
   "execution_count": 551,
   "metadata": {
    "collapsed": true
   },
   "outputs": [],
   "source": [
    "def download_hidden_list(samples = 10):\n",
    "    hidden_list = []\n",
    "    bar = rt.progress_bar(samples)\n",
    "    for num in range(0, samples):\n",
    "        bar.progress()\n",
    "        hidden_list.append(get_random_candles(60))\n",
    "        \n",
    "    X, Y = create_data(hidden_list, candles_before)\n",
    "    temp = pd.DataFrame(Y, columns = ['y'])\n",
    "    mask = temp['y'] >= 0.005\n",
    "    temp.loc[mask, 'new_y'] = 1\n",
    "    temp.loc[~mask, 'new_y'] = 0\n",
    "    y = temp['new_y'].values\n",
    "    return X, y"
   ]
  },
  {
   "cell_type": "code",
   "execution_count": 586,
   "metadata": {},
   "outputs": [
    {
     "name": "stdout",
     "output_type": "stream",
     "text": [
      "0o0o0o0o0o0o0o0o0o0o0o0o0o0o0o0o0o0o0o0o0o0o0o0o0o0o0o0o0o0o0o0o0o0o0o0o0o0o0o0o0o0o0o0o0>          | 100.00 % \n",
      "Done: 9 Remaining: 1, Remaining Time: 0s\n"
     ]
    }
   ],
   "source": [
    "hidden_x, hidden_y = download_hidden_list(10)"
   ]
  },
  {
   "cell_type": "code",
   "execution_count": 587,
   "metadata": {
    "collapsed": true
   },
   "outputs": [],
   "source": [
    "def fit(X, y, epochs = 1, hidden_x = False, hidden_y = False):\n",
    "    if type(hidden_x) == type(False):\n",
    "        hidden_x, hidden_y = download_hidden_list(10)\n",
    "    \n",
    "    for num in range(epochs):\n",
    "        model.fit(X, y,batch_size=1000,  epochs=1, verbose = 1)\n",
    "        print('Testing Loss: ',model.evaluate(hidden_x, hidden_y))"
   ]
  },
  {
   "cell_type": "code",
   "execution_count": 588,
   "metadata": {
    "scrolled": true
   },
   "outputs": [
    {
     "name": "stdout",
     "output_type": "stream",
     "text": [
      "Epoch 1/1\n",
      "77844/77844 [==============================] - 2s 25us/step - loss: 8.5380e-06\n",
      "1391/1391 [==============================] - 0s 91us/step\n",
      "Testing Loss:  0.008630595221566813\n",
      "Epoch 1/1\n",
      "77844/77844 [==============================] - 2s 26us/step - loss: 8.2535e-06\n",
      "1391/1391 [==============================] - 0s 88us/step\n",
      "Testing Loss:  0.008630460506182025\n",
      "Epoch 1/1\n",
      "77844/77844 [==============================] - 2s 26us/step - loss: 8.0059e-06\n",
      "1391/1391 [==============================] - 0s 84us/step\n",
      "Testing Loss:  0.00862820843617977\n",
      "Epoch 1/1\n",
      "77844/77844 [==============================] - 2s 30us/step - loss: 7.7943e-06\n",
      "1391/1391 [==============================] - 0s 102us/step\n",
      "Testing Loss:  0.008631508790002781\n",
      "Epoch 1/1\n",
      "77844/77844 [==============================] - 2s 30us/step - loss: 7.6156e-06\n",
      "1391/1391 [==============================] - 0s 98us/step\n",
      "Testing Loss:  0.008626041261229001\n",
      "Epoch 1/1\n",
      "77844/77844 [==============================] - 2s 31us/step - loss: 7.4455e-06\n",
      "1391/1391 [==============================] - 0s 108us/step\n",
      "Testing Loss:  0.008634303842136317\n",
      "Epoch 1/1\n",
      "77844/77844 [==============================] - 2s 30us/step - loss: 7.3186e-06\n",
      "1391/1391 [==============================] - 0s 90us/step\n",
      "Testing Loss:  0.008622515645258764\n",
      "Epoch 1/1\n",
      "77844/77844 [==============================] - 2s 30us/step - loss: 7.1713e-06\n",
      "1391/1391 [==============================] - 0s 111us/step\n",
      "Testing Loss:  0.00862517604183295\n",
      "Epoch 1/1\n",
      "77844/77844 [==============================] - 2s 30us/step - loss: 7.0309e-06\n",
      "1391/1391 [==============================] - 0s 99us/step\n",
      "Testing Loss:  0.008624902334612076\n",
      "Epoch 1/1\n",
      "77844/77844 [==============================] - 2s 31us/step - loss: 6.9122e-06\n",
      "1391/1391 [==============================] - 0s 109us/step\n",
      "Testing Loss:  0.008630280716072943\n"
     ]
    }
   ],
   "source": [
    "fit( X, y, 10, hidden_x,hidden_y )"
   ]
  },
  {
   "cell_type": "code",
   "execution_count": 609,
   "metadata": {},
   "outputs": [],
   "source": [
    "def evaluate( X = False, y = False):\n",
    "    if type(X) == type(False):\n",
    "        X, y = download_hidden_list(10)\n",
    "    preds = model.predict(X)    \n",
    "    comparison = pd.DataFrame()\n",
    "    comparison['preds'] = preds.reshape(len(preds))\n",
    "    comparison['preds'] = comparison['preds'].apply(lambda x: round(x, 4))\n",
    "    comparison['y'] = temp['y']\n",
    "    return preds, comparison\n",
    "\n",
    "preds, comparison = evaluate(hidden_x, hidden_y)"
   ]
  },
  {
   "cell_type": "code",
   "execution_count": 603,
   "metadata": {},
   "outputs": [
    {
     "data": {
      "image/png": "[encoded data removed]",
      "text/plain": [
       "<matplotlib.figure.Figure at 0x8598fcc0>"
      ]
     },
     "metadata": {},
     "output_type": "display_data"
    }
   ],
   "source": [
    "sea.distplot(comparison['preds'])\n",
    "plt.show()"
   ]
  },
  {
   "cell_type": "code",
   "execution_count": 604,
   "metadata": {},
   "outputs": [
    {
     "data": {
      "image/png": "[encoded data removed]",
      "text/plain": [
       "<matplotlib.figure.Figure at 0x8597d240>"
      ]
     },
     "metadata": {},
     "output_type": "display_data"
    }
   ],
   "source": [
    "sea.distplot(comparison['y'])\n",
    "plt.show()"
   ]
  },
  {
   "cell_type": "code",
   "execution_count": 615,
   "metadata": {},
   "outputs": [],
   "source": [
    "comparison['status'] = 'None'\n",
    "mask = (comparison['preds'] == 0) & (comparison['y'] == 0)\n",
    "comparison.loc[mask, 'status'] = '0'\n",
    "\n",
    "mask = (comparison['preds'] > 0) & (comparison['y'] > 0)\n",
    "comparison.loc[mask, 'status'] = '-'\n",
    "\n",
    "mask = (comparison['preds'] < 0) & (comparison['y'] < 0)\n",
    "comparison.loc[mask, 'status'] = '+'"
   ]
  },
  {
   "cell_type": "code",
   "execution_count": 617,
   "metadata": {},
   "outputs": [
    {
     "data": {
      "text/plain": [
       "None    852\n",
       "+       446\n",
       "-        66\n",
       "0        27\n",
       "Name: status, dtype: int64"
      ]
     },
     "execution_count": 617,
     "metadata": {},
     "output_type": "execute_result"
    }
   ],
   "source": [
    "comparison['status'].value_counts()"
   ]
  }
 ],
 "metadata": {
  "kernelspec": {
   "display_name": "Python 3",
   "language": "python",
   "name": "python3"
  },
  "language_info": {
   "codemirror_mode": {
    "name": "ipython",
    "version": 3
   },
   "file_extension": ".py",
   "mimetype": "text/x-python",
   "name": "python",
   "nbconvert_exporter": "python",
   "pygments_lexer": "ipython3",
   "version": "3.6.3"
  }
 },
 "nbformat": 4,
 "nbformat_minor": 2
}
