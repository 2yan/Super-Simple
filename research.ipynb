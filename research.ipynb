{
 "cells": [
  {
   "cell_type": "code",
   "execution_count": 1,
   "metadata": {},
   "outputs": [
    {
     "name": "stderr",
     "output_type": "stream",
     "text": [
      "C:\\Users\\rfrancis\\AppData\\Local\\Continuum\\anaconda3\\lib\\site-packages\\h5py\\__init__.py:34: FutureWarning: Conversion of the second argument of issubdtype from `float` to `np.floating` is deprecated. In future, it will be treated as `np.float64 == np.dtype(float).type`.\n",
      "  from ._conv import register_converters as _register_converters\n",
      "Using TensorFlow backend.\n"
     ]
    }
   ],
   "source": [
    "from datetime import datetime, timedelta\n",
    "import os\n",
    "import time\n",
    "import requests\n",
    "import random\n",
    "import pandas as pd\n",
    "import numpy as np\n",
    "from matplotlib import pyplot as plt\n",
    "import doctor\n",
    "import math\n",
    "from IPython.display import clear_output\n",
    "import main\n",
    "import seaborn as sea\n",
    "import matplotlib.patches as patches\n",
    "import matplotlib as mpl\n",
    "import ryan_tools as rt\n",
    "import keras as kr\n",
    "import glob"
   ]
  },
  {
   "cell_type": "markdown",
   "metadata": {},
   "source": [
    "### Open"
   ]
  },
  {
   "cell_type": "code",
   "execution_count": 2,
   "metadata": {
    "collapsed": true
   },
   "outputs": [],
   "source": [
    "def plot_candles(candles, signal, fig, ax):\n",
    "    def add_rectangle(i, open_, close,low, high, ax, sig):\n",
    "        x = i - .5\n",
    "        y = min(open_, close)\n",
    "        height = abs(open_ - close)\n",
    "        if sig == 'buy':\n",
    "            color = 'green'\n",
    "            hatch = 'x'\n",
    "        if sig == 'sell':\n",
    "            color = 'red'\n",
    "            hatch = ''\n",
    "            \n",
    "        if sig == 'wait':\n",
    "            color = 'orange'\n",
    "            hatch = ''\n",
    "        ax.add_patch(patches.Rectangle((x, y), .9, height,\n",
    "                                       fill = open_ <= close, facecolor = color,\n",
    "                                       edgecolor = color, hatch = hatch ))\n",
    "        top = max(open_,close)\n",
    "        bottom = min(open_,close)\n",
    "\n",
    "        if low < bottom:\n",
    "            ax.add_line(mpl.lines.Line2D([i,i], [low, bottom], color = color) )\n",
    "\n",
    "            \n",
    "        if high > top:\n",
    "            ax.add_line(mpl.lines.Line2D([i,i], [high, top], color = color) )\n",
    "\n",
    "        \n",
    "    for i, index in enumerate(candles.index):\n",
    "        sig = signal.loc[index]\n",
    "        row = candles.loc[index]\n",
    "        add_rectangle(i, row['open'], row['close'],row['low'], row['high'],  ax, sig)\n",
    "    ax.set_xlim(0, len(candles))\n",
    "    ax.set_ylim(candles['close'].min() *.998, candles['close'].max() * 1.002)\n",
    "    return ax"
   ]
  },
  {
   "cell_type": "code",
   "execution_count": 3,
   "metadata": {
    "collapsed": true
   },
   "outputs": [],
   "source": [
    "def chartio(gran = 60, cans = False, count = False):\n",
    "    if type(cans) == type(False):\n",
    "        cans = aba.get_candles(granularity= gran)\n",
    "    if count == False:\n",
    "        count = len(cans)\n",
    "    mask = cans['open']< cans['close']\n",
    "    signal = pd.Series(index = cans.index )\n",
    "    signal.loc[mask] = 'buy'\n",
    "    signal.loc[~mask] = 'sell'\n",
    "\n",
    "    \n",
    "    \n",
    "    fig, (ax, sig_ax) = plt.subplots(nrows = 2, sharex= False)\n",
    "    fig.set_size_inches(7, 9)\n",
    "    plot_candles(cans[-count:], signal[-count:], fig, ax)\n",
    "    ax.set_xticklabels(cans.index)\n",
    "    ax2 = ax.twinx()\n",
    "    cans.iloc[-count:]['volume'].plot(kind = 'bar', ax = ax2, alpha = 0.3)\n",
    "    \n",
    "\n",
    "    rsi = aba.get_rsi(cans['close'])\n",
    "    macd = aba.get_macd(cans)\n",
    "    rsi.plot(ax = sig_ax, alpha = 0.1)\n",
    "    ax4 = sig_ax.twinx()\n",
    "    macd[['macd', 'macd_signal']].plot(ax = ax4)\n",
    "    plt.show()\n",
    "    "
   ]
  },
  {
   "cell_type": "code",
   "execution_count": 4,
   "metadata": {
    "collapsed": true
   },
   "outputs": [],
   "source": [
    "aba = main.Abathor('LTC-USD')"
   ]
  },
  {
   "cell_type": "code",
   "execution_count": 5,
   "metadata": {
    "collapsed": true
   },
   "outputs": [],
   "source": [
    "def save_observations(observations):\n",
    "    for i, df in enumerate( observations):\n",
    "        dire = os.getcwd() + '\\\\data\\\\{}.pkl'.format(i)\n",
    "        df.to_pickle(dire)"
   ]
  },
  {
   "cell_type": "code",
   "execution_count": 6,
   "metadata": {
    "collapsed": true
   },
   "outputs": [],
   "source": [
    "def load_observations():\n",
    "    observations = []\n",
    "    os.chdir('data')\n",
    "    for file in glob.glob('*.pkl'):\n",
    "        observations.append(pd.read_pickle(file))\n",
    "    os.chdir('..')\n",
    "    return observations"
   ]
  },
  {
   "cell_type": "code",
   "execution_count": 7,
   "metadata": {
    "collapsed": true
   },
   "outputs": [],
   "source": [
    "observations = load_observations()\n",
    "save_observations(observations)"
   ]
  },
  {
   "cell_type": "code",
   "execution_count": 8,
   "metadata": {
    "collapsed": true
   },
   "outputs": [],
   "source": [
    "def get_random_candles(seconds = 60.00):\n",
    "    days = np.random.randint(1, 500)\n",
    "    hours = np.random.randint(0, 12)\n",
    "    minutes = np.random.randint(0,60)\n",
    "    start = datetime.today() - timedelta(days = days, hours = hours, minutes = minutes )\n",
    "    end = start + timedelta(seconds = seconds * 200)\n",
    "    cans =  aba.get_candles(start, end, granularity = seconds)\n",
    "    observations.append(cans)\n",
    "    save_observations(observations)\n",
    "    return cans"
   ]
  },
  {
   "cell_type": "code",
   "execution_count": 9,
   "metadata": {},
   "outputs": [],
   "source": [
    "#to_download = 100\n",
    "#bar = rt.progress_bar(to_download)\n",
    "#for num in range(0, to_download):\n",
    "#    get_random_candles()\n",
    "#    bar.progress()"
   ]
  },
  {
   "cell_type": "code",
   "execution_count": 10,
   "metadata": {
    "collapsed": true
   },
   "outputs": [],
   "source": [
    "def make_changes(candles):\n",
    "    changes = candles.copy()\n",
    "    candles['minutes'] = (candles.index - candles.index.min()).seconds / 60\n",
    "    standard_open = changes.loc[changes.index.min(), 'open']\n",
    "    standard_volume = changes.loc[changes.index.min(), 'volume']\n",
    "    changes[['low', 'high', 'open', 'close']] = changes[['low', 'high', 'open', 'close']]/standard_open\n",
    "    changes['volume']  = changes['volume']/changes['volume']\n",
    "    #changes[['low', 'high', 'open', 'close', 'volume']] = np.log(changes[['low', 'high', 'open', 'close', 'volume']]).diff().bfill()\n",
    "    changes['minutes'] = candles['minutes']\n",
    "    return changes\n",
    "def create_data(candle_list, candles_before = 10):\n",
    "    X = []\n",
    "    y = []\n",
    "    ar = np.array\n",
    "    bar = rt.progress_bar(len(candle_list))\n",
    "    for candles in candle_list:\n",
    "        bar.progress()\n",
    "        changes = make_changes(candles)\n",
    "\n",
    "        for index in changes.index:\n",
    "            change_percent = changes.loc[index, 'close']\n",
    "            all_before = changes.loc[:index]\n",
    "            amount = len(all_before)\n",
    "            if amount > candles_before + 2:\n",
    "                Xi = all_before.iloc[amount - (candles_before+ 2):amount-2]\n",
    "                Xi = ar(Xi[['low', 'high', 'open', 'close', 'volume', 'minutes']].values)\n",
    "                X.append(Xi)\n",
    "                y.append(change_percent)\n",
    "    X, y =  ar(X), ar(y)\n",
    "    \n",
    "    #temp = pd.DataFrame(y, columns = ['y'])\n",
    "    #mask = temp['y'] >= 0.005\n",
    "    #temp.loc[mask, 'new_y'] = 1\n",
    "    #temp.loc[~mask, 'new_y'] = 0\n",
    "    #y = temp['new_y'].values\n",
    "    \n",
    "    return X, y\n",
    "    "
   ]
  },
  {
   "cell_type": "code",
   "execution_count": 11,
   "metadata": {
    "collapsed": true
   },
   "outputs": [],
   "source": [
    "def make_samples_even(X,y, target_ratio = .8 ):\n",
    "    X = list(X)\n",
    "    y = list(y)\n",
    "    \n",
    "    def get_ratio(y):\n",
    "        total = len(y)\n",
    "        wins = np.sum(y)\n",
    "        losses = total - wins\n",
    "        return wins/losses\n",
    "    \n",
    "    def add_another(X, y, windexes):\n",
    "        to_add = np.random.choice(windexes)\n",
    "        X.append(X[to_add])\n",
    "        y.append(y[to_add])\n",
    "    ratio = get_ratio(y)\n",
    "    \n",
    "    while ratio < target_ratio:\n",
    "        windexes = [i for i,val in enumerate(y) if val==1]\n",
    "        for num in range(0, 500):\n",
    "            add_another(X, y, windexes)\n",
    "\n",
    "        ratio = get_ratio(y)\n",
    "        print(ratio)\n",
    "        clear_output(True)\n",
    "        \n",
    "         \n",
    "    return np.array(X), np.array(y)\n"
   ]
  },
  {
   "cell_type": "code",
   "execution_count": 12,
   "metadata": {
    "collapsed": true
   },
   "outputs": [],
   "source": [
    "observations = load_observations()"
   ]
  },
  {
   "cell_type": "code",
   "execution_count": 13,
   "metadata": {},
   "outputs": [
    {
     "name": "stdout",
     "output_type": "stream",
     "text": [
      "0o0o0o0o0o0o0o0o0o0o0o0o0o0o0o0o0o0o0o0o0o0o0o0o0o0o0o0o0o0o0o0o0o0o0o0o0o0o0o0o0o0o0o0o0o0o0o0o0o> | 100.00 % \n",
      "Done: 679 Remaining: 1, Remaining Time: 0s\n"
     ]
    }
   ],
   "source": [
    "candles_before = 25\n",
    "X, y = create_data(observations, candles_before)\n"
   ]
  },
  {
   "cell_type": "code",
   "execution_count": 14,
   "metadata": {},
   "outputs": [],
   "source": [
    "#y.sum()/len(y)"
   ]
  },
  {
   "cell_type": "code",
   "execution_count": 15,
   "metadata": {},
   "outputs": [],
   "source": [
    "#X,y  = make_samples_even(X, y, 1 )"
   ]
  },
  {
   "cell_type": "code",
   "execution_count": 33,
   "metadata": {
    "collapsed": true
   },
   "outputs": [],
   "source": [
    "def generate_model(X, y):\n",
    "    model = kr.models.Sequential()\n",
    "    model.add(kr.layers.LSTM(2**4, input_shape=X.shape[1:],return_sequences=False))\n",
    "    #model.add(kr.layers.Dropout(0.05))\n",
    "    model.add(kr.layers.Dense(2**8))\n",
    "    model.add(kr.layers.Dense(1))\n",
    "    #model.add(kr.layers.Activation('sigmoid'))\n",
    "    #optimizer = kr.optimizers.RMSprop(lr=0.001)\n",
    "    optimizer = kr.optimizers.Adam(0.001)\n",
    "    model.compile(loss='mean_absolute_error', optimizer=optimizer)\n",
    "    return model\n",
    "\n",
    "model = generate_model(X, y)"
   ]
  },
  {
   "cell_type": "code",
   "execution_count": 17,
   "metadata": {
    "scrolled": true
   },
   "outputs": [
    {
     "name": "stdout",
     "output_type": "stream",
     "text": [
      "Epoch 1/1\n",
      "10/10 [==============================] - 1s 55ms/step - loss: 1.3296\n"
     ]
    },
    {
     "data": {
      "text/plain": [
       "<keras.callbacks.History at 0x274de1d0>"
      ]
     },
     "execution_count": 17,
     "metadata": {},
     "output_type": "execute_result"
    }
   ],
   "source": [
    "model.fit(X[:10], y[:10])"
   ]
  },
  {
   "cell_type": "code",
   "execution_count": 34,
   "metadata": {
    "collapsed": true
   },
   "outputs": [],
   "source": [
    "def download_hidden_list(samples = 10):\n",
    "    hidden_list = []\n",
    "    bar = rt.progress_bar(samples)\n",
    "    for num in range(0, samples):\n",
    "        bar.progress()\n",
    "        hidden_list.append(get_random_candles(60))\n",
    "        \n",
    "    X, y = create_data(hidden_list, candles_before)\n",
    "\n",
    "    return X, y"
   ]
  },
  {
   "cell_type": "code",
   "execution_count": 19,
   "metadata": {},
   "outputs": [
    {
     "name": "stdout",
     "output_type": "stream",
     "text": [
      "0o0o0o0o0o0o0o0o0o0o0o0o0o0o0o0o0o0o0o0o0o0o0o0o0o0o0o0o0o0o0o0o0o0o0o0o0o0o0o0o0o0o0o0o0o0o0o0>    | 100.00 % \n",
      "Done: 29 Remaining: 1, Remaining Time: 0s\n"
     ]
    }
   ],
   "source": [
    "hidden_x, hidden_y = download_hidden_list(30)"
   ]
  },
  {
   "cell_type": "code",
   "execution_count": 35,
   "metadata": {
    "collapsed": true
   },
   "outputs": [],
   "source": [
    "def fit(X, y, epochs = 1, hidden_x = False, hidden_y = False):\n",
    "    if type(hidden_x) == type(False):\n",
    "        hidden_x, hidden_y = download_hidden_list(10)\n",
    "    \n",
    "    for num in range(epochs):\n",
    "        model.fit(X, y,batch_size=1000,  epochs=5, verbose = 1)\n",
    "        test_loss = model.evaluate(hidden_x, hidden_y)\n",
    "        if test_loss < 0.001:\n",
    "            return \n",
    "        print('{} Testing Loss: '.format(num), test_loss)"
   ]
  },
  {
   "cell_type": "code",
   "execution_count": null,
   "metadata": {
    "scrolled": true
   },
   "outputs": [
    {
     "name": "stdout",
     "output_type": "stream",
     "text": [
      "Epoch 1/5\n",
      "103009/103009 [==============================] - 3s 29us/step - loss: 0.0757\n",
      "Epoch 2/5\n",
      "103009/103009 [==============================] - 2s 23us/step - loss: 0.0181\n",
      "Epoch 3/5\n",
      "103009/103009 [==============================] - 2s 23us/step - loss: 0.0175\n",
      "Epoch 4/5\n",
      "103009/103009 [==============================] - 2s 22us/step - loss: 0.0217\n",
      "Epoch 5/5\n",
      "103009/103009 [==============================] - 2s 22us/step - loss: 0.0198\n",
      "3662/3662 [==============================] - 0s 65us/step\n",
      "0 Testing Loss:  0.022163683666574507\n",
      "Epoch 1/5\n",
      "103009/103009 [==============================] - 2s 23us/step - loss: 0.0185\n",
      "Epoch 2/5\n",
      " 40000/103009 [==========>...................] - ETA: 1s - loss: 0.0174"
     ]
    }
   ],
   "source": [
    "fit( X, y, 100, hidden_x,hidden_y )"
   ]
  },
  {
   "cell_type": "code",
   "execution_count": 22,
   "metadata": {},
   "outputs": [],
   "source": [
    "def evaluate( X = False, y = False):\n",
    "    if type(X) == type(False):\n",
    "        X, y = download_hidden_list(10)\n",
    "    preds = model.predict(X)    \n",
    "    comparison = pd.DataFrame()\n",
    "    comparison['preds'] = preds.reshape(len(preds))\n",
    "    comparison['preds'] = comparison['preds'].apply(lambda x: round(x, 4))\n",
    "    comparison['y'] = y\n",
    "    return preds, comparison\n",
    "\n",
    "preds, comparison = evaluate(hidden_x, hidden_y)"
   ]
  },
  {
   "cell_type": "code",
   "execution_count": 23,
   "metadata": {},
   "outputs": [
    {
     "data": {
      "image/png": "[encoded data removed]",
      "text/plain": [
       "<matplotlib.figure.Figure at 0x321f6780>"
      ]
     },
     "metadata": {},
     "output_type": "display_data"
    }
   ],
   "source": [
    "sea.distplot(comparison['preds'])\n",
    "plt.show()"
   ]
  },
  {
   "cell_type": "code",
   "execution_count": 24,
   "metadata": {},
   "outputs": [
    {
     "data": {
      "image/png": "[encoded data removed]",
      "text/plain": [
       "<matplotlib.figure.Figure at 0x32574b00>"
      ]
     },
     "metadata": {},
     "output_type": "display_data"
    }
   ],
   "source": [
    "sea.distplot(comparison['y'])\n",
    "plt.show()"
   ]
  },
  {
   "cell_type": "code",
   "execution_count": 25,
   "metadata": {
    "collapsed": true
   },
   "outputs": [],
   "source": [
    "comparison['status'] = 'None'\n",
    "mask = (comparison['preds'] == 0) & (comparison['y'] == 0)\n",
    "comparison.loc[mask, 'status'] = '0'\n",
    "\n",
    "mask = (comparison['preds'] > 0) & (comparison['y'] > 0)\n",
    "comparison.loc[mask, 'status'] = '-'\n",
    "\n",
    "mask = (comparison['preds'] < 0) & (comparison['y'] < 0)\n",
    "comparison.loc[mask, 'status'] = '+'"
   ]
  },
  {
   "cell_type": "code",
   "execution_count": 26,
   "metadata": {},
   "outputs": [],
   "source": [
    "comparison['wrong'] = comparison['y'] - comparison['preds']"
   ]
  },
  {
   "cell_type": "code",
   "execution_count": 27,
   "metadata": {},
   "outputs": [
    {
     "data": {
      "text/plain": [
       "0.0034254237288136036"
      ]
     },
     "execution_count": 27,
     "metadata": {},
     "output_type": "execute_result"
    }
   ],
   "source": [
    "comparison['wrong'].median()"
   ]
  },
  {
   "cell_type": "code",
   "execution_count": 28,
   "metadata": {},
   "outputs": [
    {
     "data": {
      "image/png": "[encoded data removed]",
      "text/plain": [
       "<matplotlib.figure.Figure at 0x325747b8>"
      ]
     },
     "metadata": {},
     "output_type": "display_data"
    }
   ],
   "source": [
    "sea.distplot(comparison['wrong'])\n",
    "plt.show()"
   ]
  },
  {
   "cell_type": "code",
   "execution_count": 29,
   "metadata": {
    "collapsed": true
   },
   "outputs": [],
   "source": [
    "def predict_next_move( seconds = 60.00):\n",
    "    end = datetime.today()\n",
    "    start = end - timedelta(seconds = seconds * 200)\n",
    "    cans =  aba.get_candles(start, end, granularity = seconds)\n",
    "    return cans\n"
   ]
  },
  {
   "cell_type": "code",
   "execution_count": 30,
   "metadata": {},
   "outputs": [
    {
     "ename": "SyntaxError",
     "evalue": "invalid syntax (<ipython-input-30-9865dfe25005>, line 6)",
     "output_type": "error",
     "traceback": [
      "\u001b[1;36m  File \u001b[1;32m\"<ipython-input-30-9865dfe25005>\"\u001b[1;36m, line \u001b[1;32m6\u001b[0m\n\u001b[1;33m    changes = changes/\u001b[0m\n\u001b[1;37m                      ^\u001b[0m\n\u001b[1;31mSyntaxError\u001b[0m\u001b[1;31m:\u001b[0m invalid syntax\n"
     ]
    }
   ],
   "source": [
    "cans = predict_next_move(60)\n",
    "chartio(cans = cans, count = 30)\n",
    "changes = make_changes(cans)\n",
    "changes = changes.iloc[-candles_before:][['low', 'high', 'open', 'close', 'volume', 'minutes']]\n",
    "changes = changes.values.reshape((1, changes.shape[0], changes.shape[1]))\n",
    "changes = changes/\n",
    "print('Prediction:',model.predict(changes)[0][0])\n",
    "cans.loc[cans.index.max()].apply(lambda x: '{:.2f}'.format(x))"
   ]
  }
 ],
 "metadata": {
  "kernelspec": {
   "display_name": "Python 3",
   "language": "python",
   "name": "python3"
  },
  "language_info": {
   "codemirror_mode": {
    "name": "ipython",
    "version": 3
   },
   "file_extension": ".py",
   "mimetype": "text/x-python",
   "name": "python",
   "nbconvert_exporter": "python",
   "pygments_lexer": "ipython3",
   "version": "3.6.3"
  }
 },
 "nbformat": 4,
 "nbformat_minor": 2
}
