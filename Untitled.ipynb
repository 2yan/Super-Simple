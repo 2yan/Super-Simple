{
 "cells": [
  {
   "cell_type": "code",
   "execution_count": 1,
   "metadata": {},
   "outputs": [],
   "source": [
    "from datetime import datetime\n",
    "import os\n",
    "import time\n",
    "import requests\n",
    "import pandas as pd\n",
    "import numpy as np\n",
    "from matplotlib import pyplot as plt\n",
    "import doctor\n",
    "import math\n",
    "from IPython.display import clear_output\n",
    "from main import Abathor\n",
    "\n",
    "\n",
    "\n",
    "\n",
    "import matplotlib.patches as patches\n",
    "import matplotlib as mpl"
   ]
  },
  {
   "cell_type": "code",
   "execution_count": 2,
   "metadata": {},
   "outputs": [],
   "source": [
    "def main_loop(aba):\n",
    "    global current_minute\n",
    "    print('Minute Passed')\n",
    "    candles, signal = aba.get_current_signal()\n",
    "    maximum = candles.index.max()\n",
    "    book = aba.request('/products/{}/book'.format(aba.product_id))\n",
    "    asks = float(book['asks'][0][0])\n",
    "    bids = float(book['bids'][0][0])\n",
    "    \n",
    "    #price = candles[[low', 'high', 'open', 'close']].ewm(halflife = 2).mean().tail(1).mean().mean()\n",
    "    s = signal.loc[signal.index.max()]\n",
    "    \n",
    "    if s:\n",
    "        price = min(bids +.01,asks - .01)\n",
    "        status = aba.place_buy(price)\n",
    "        if status['status'] == 'rejected':\n",
    "            print(\"Order Rejected\")\n",
    "            current_minute = 'rejected'\n",
    "    if not s:\n",
    "        price = max(bids +.01,asks - .01)\n",
    "        status = aba.place_sell(price)\n",
    "        if status['status'] == 'rejected':\n",
    "            print(\"Order Rejected\")\n",
    "\n",
    "            current_minute = 'rejected'\n",
    "\n",
    "    plot_candles(candles[300:], signal[300:])\n",
    "    print(signal.loc[maximum])\n",
    "    clear_output(True)"
   ]
  },
  {
   "cell_type": "code",
   "execution_count": 3,
   "metadata": {
    "collapsed": true
   },
   "outputs": [],
   "source": [
    "def plot_candles(candles, signal):\n",
    "    fig, ax = plt.subplots()\n",
    "    fig.set_size_inches(9, 7)\n",
    "    def add_rectangle(i, open_, close,low, high, ax, sig):\n",
    "        x = i - .5\n",
    "        y = min(open_, close)\n",
    "        height = abs(open_ - close)\n",
    "        if sig:\n",
    "            color = 'green'\n",
    "            hatch = 'x'\n",
    "        if not sig:\n",
    "            color = 'red'\n",
    "            hatch = ''\n",
    "        ax.add_patch(patches.Rectangle((x, y), .9, height,\n",
    "                                       fill = open_ <= close, facecolor = color,\n",
    "                                       edgecolor = color, hatch = hatch ))\n",
    "        top = max(open_,close)\n",
    "        bottom = min(open_,close)\n",
    "\n",
    "        if low < bottom:\n",
    "            ax.add_line(mpl.lines.Line2D([i,i], [low, bottom], color = color) )\n",
    "\n",
    "            \n",
    "        if high > top:\n",
    "            ax.add_line(mpl.lines.Line2D([i,i], [high, top], color = color) )\n",
    "\n",
    "        \n",
    "    for i, index in enumerate(candles.index):\n",
    "        sig = signal.loc[index]\n",
    "        row = candles.loc[index]\n",
    "        add_rectangle(i, row['open'], row['close'],row['low'], row['high'],  ax, sig)\n",
    "    ax.set_xlim(0, len(candles))\n",
    "    ax.set_ylim(candles['close'].min() *.998, candles['close'].max() * 1.002)\n",
    "    plt.show()\n",
    "    "
   ]
  },
  {
   "cell_type": "code",
   "execution_count": null,
   "metadata": {
    "collapsed": true
   },
   "outputs": [],
   "source": [
    "def begin():\n",
    "    \n",
    "    current_minute = datetime.now()\n",
    "    aba = Abathor('LTC-USD')\n",
    "    \n",
    "    \n",
    "    while True:\n",
    "        now = datetime.now().minute\n",
    "        if now != current_minute:\n",
    "            main_loop(aba)\n",
    "            current_minute = now"
   ]
  },
  {
   "cell_type": "code",
   "execution_count": null,
   "metadata": {},
   "outputs": [
    {
     "name": "stdout",
     "output_type": "stream",
     "text": [
      "Minute Passed\n"
     ]
    },
    {
     "data": {
      "image/png": "[encoded data removed]",
      "text/plain": [
       "<matplotlib.figure.Figure at 0x1c136ac8>"
      ]
     },
     "metadata": {},
     "output_type": "display_data"
    },
    {
     "name": "stdout",
     "output_type": "stream",
     "text": [
      "False\n"
     ]
    }
   ],
   "source": [
    "begin()\n"
   ]
  }
 ],
 "metadata": {
  "kernelspec": {
   "display_name": "Python 3",
   "language": "python",
   "name": "python3"
  },
  "language_info": {
   "codemirror_mode": {
    "name": "ipython",
    "version": 3
   },
   "file_extension": ".py",
   "mimetype": "text/x-python",
   "name": "python",
   "nbconvert_exporter": "python",
   "pygments_lexer": "ipython3",
   "version": "3.6.3"
  }
 },
 "nbformat": 4,
 "nbformat_minor": 2
}
