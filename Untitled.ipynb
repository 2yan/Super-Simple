{
 "cells": [
  {
   "cell_type": "code",
   "execution_count": 1,
   "metadata": {
    "collapsed": true
   },
   "outputs": [],
   "source": [
    "import pickle\n",
    "import pandas as pd\n",
    "import ryan_tools as rt\n",
    "import numpy as np\n",
    "import seaborn as sea\n",
    "import matplotlib.pyplot as plt\n",
    "import main\n",
    "from datetime import datetime, timedelta"
   ]
  },
  {
   "cell_type": "code",
   "execution_count": 2,
   "metadata": {
    "collapsed": true
   },
   "outputs": [],
   "source": [
    "aba = main.Abathor('LTC-USD')"
   ]
  },
  {
   "cell_type": "code",
   "execution_count": 3,
   "metadata": {
    "collapsed": true
   },
   "outputs": [],
   "source": [
    "cans = aba.get_candles()"
   ]
  },
  {
   "cell_type": "code",
   "execution_count": 19,
   "metadata": {
    "collapsed": true
   },
   "outputs": [],
   "source": [
    "class Test_candles():\n",
    "    abas = None\n",
    "    data =None\n",
    "    \n",
    "    def get_time_range(self, start,aba, end, gran = 60):\n",
    "        next_val = start + timedelta(seconds = 200 * gran)\n",
    "        result = pd.DataFrame()\n",
    "        bar = rt.progress_bar((end - start).total_seconds()/(gran* 200))\n",
    "        while next_val < end:\n",
    "            print('{} - {}'.format(aba.product_id, gran))\n",
    "            print(start)\n",
    "            print(next_val)\n",
    "            print(next_val - start)\n",
    "            bar.progress()\n",
    "            temp = aba.get_candles(start, next_val, gran)\n",
    "            result = result.append(temp)\n",
    "            start = next_val\n",
    "            next_val = next_val + timedelta(seconds = 200 * gran)\n",
    "        result = result.drop_duplicates('timestamp')\n",
    "        return result\n",
    "    \n",
    "    def __init__(self, days = int(365/2)):\n",
    "            \n",
    "        abas = {}\n",
    "        abas['LTC'] = main.Abathor('LTC-USD')\n",
    "        abas['ETH'] = main.Abathor('ETH-USD')\n",
    "        abas['BTC'] = main.Abathor('BTC-USD')\n",
    "        abas['BCH'] = main.Abathor('BCH-USD')\n",
    "        self.abas = abas\n",
    "        \n",
    "        data = {}\n",
    "        end = pd.to_datetime('2018/03/10')\n",
    "        start = end - timedelta(days= days)\n",
    "    \n",
    "            \n",
    "        for pair in abas.keys():\n",
    "            aba = abas[pair]\n",
    "            data[pair] = {}\n",
    "            for gran in (60, 60 * 5, 60 * 15, 60 * 60):\n",
    "                data[pair][gran] = self.get_time_range(start, aba, end, gran = gran)\n",
    "\n",
    "        self.data = data"
   ]
  },
  {
   "cell_type": "code",
   "execution_count": 20,
   "metadata": {
    "collapsed": true
   },
   "outputs": [],
   "source": [
    "class Tester():\n",
    "    cash = None\n",
    "    coin = None\n",
    "    position = None\n",
    "    trades = None\n",
    "    cost = None\n",
    "    trade_history = None\n",
    "    stoploss = None\n",
    "    buy_price = None\n",
    "    target_percent = None\n",
    "    \n",
    "    def __init__(self, cash = 100, coin = 0, position = 'out', stoploss = False, target_percent = False):\n",
    "        assert(position in ('in', 'out'))\n",
    "        self.cash = cash\n",
    "        self.coin = coin\n",
    "        self.position = position\n",
    "        self.trades = 0\n",
    "        self.trade_history = []\n",
    "        self.cost = 0\n",
    "        self.stoploss = stoploss\n",
    "        self.target_percent = target_percent\n",
    "        \n",
    "    def sell(self, p):\n",
    "        if self.position == 'out':\n",
    "            return \n",
    "        self.cash = self.coin * p\n",
    "        self.cost = self.cost + (0.003 * self.cash)\n",
    "        self.coin = 0\n",
    "        self.position = 'out'\n",
    "        self.trades = self.trades + 1\n",
    "        spot = len(self.trade_history) - 1\n",
    "        self.trade_history[spot] = (self.cash - self.trade_history[spot])/self.trade_history[spot]\n",
    "        \n",
    "        return \n",
    "    \n",
    "    def buy(self, p):\n",
    "        if self.position == 'in':\n",
    "            return\n",
    "        self.trade_history.append(self.cash)\n",
    "        self.coin = self.cash/p\n",
    "        self.cost = self.cost + (0.003 * self.cash)\n",
    "        self.cash = 0\n",
    "        self.position = 'in'\n",
    "        self.trades = self.trades + 1\n",
    "        self.buy_price = p\n",
    "        return\n",
    "        \n",
    "\n",
    "    def test_signal(self, prices, signal):\n",
    "        for i in range(len(signal)):\n",
    "            p = prices.iloc[i]\n",
    "            s = signal.iloc[i]\n",
    "            \n",
    "            if (self.stoploss != False) and (self.position) == 'in':\n",
    "                if p <= ((1 - self.stoploss) * self.buy_price):                   \n",
    "                    s = 'sell'\n",
    "            if (self.target_percent != False) and (self.position) == 'in':\n",
    "                if p >= ((1 + self.target_percent) * self.buy_price):\n",
    "                    s = 'sell'\n",
    "                    \n",
    "            if s == 'sell':\n",
    "                self.sell(p)\n",
    "                \n",
    "            if s == 'buy':\n",
    "                self.buy(p)\n",
    "            if s == 'hold':\n",
    "                s = 'hold'\n",
    "                \n",
    "        self.sell(p)\n",
    "        return self.cash, self.coin, self.trades\n",
    "    \n",
    "    def __str__(self):\n",
    "        text = 'Trades {:,.0f} | Cash $ {:.2f} | Cost $ {:,.2f}'.format(self.trades, self.cash, self.cost )\n",
    "        return text\n",
    "    \n",
    "    def study(self):\n",
    "        print(self)\n",
    "        print('Value Distribution')\n",
    "        th = np.array(self.trade_history)\n",
    "        sea.distplot(th, kde = False)\n",
    "        plt.show()\n",
    "        print('Average Change: {:.4f} %'.format(np.mean(th) * 100))\n",
    "        print('Max Drawdown: {:.4f} %'.format(min(th)* 100))\n",
    "    \n",
    "    def get_sharpe(self):\n",
    "        hist = pd.Series(self.trade_history)\n",
    "        hist = hist[hist <0] \n",
    "        returns = (self.cash - 100)/100\n",
    "        return returns/hist.apply(abs).mean()"
   ]
  },
  {
   "cell_type": "code",
   "execution_count": 21,
   "metadata": {
    "scrolled": false
   },
   "outputs": [
    {
     "name": "stdout",
     "output_type": "stream",
     "text": [
      "BCH-USD - 3600\n",
      "2018-02-22 16:00:00\n",
      "2018-03-03 00:00:00\n",
      "8 days 08:00:00\n",
      "0o0o0o0o0o0o0o0o0o0o0o0o0o0o0o0o0o0o0o0o0o0o0o0o0o0o0o0o0o0o0o0o0o0o0o0o0o0o0o0o0o0o0o0o0o>         | 95.97 % \n",
      "Done: 20 Remaining: 1.8400000000000034, Remaining Time: 3s\n"
     ]
    }
   ],
   "source": [
    "t = None\n",
    "def get_backdata(reset = False):\n",
    "    if reset:\n",
    "        global t\n",
    "        t = Test_candles()\n",
    "        \n",
    "        with open('test_candles', 'wb') as f:\n",
    "            backdata = pickle.dump(t,f)    \n",
    "    with open('test_candles', 'rb') as f:\n",
    "        backdata = pickle.load(f)\n",
    "    return backdata\n",
    "\n",
    "backdata = get_backdata(True)"
   ]
  },
  {
   "cell_type": "code",
   "execution_count": 22,
   "metadata": {
    "collapsed": true
   },
   "outputs": [],
   "source": [
    "def check_study(study):\n",
    "    fig, ax = plt.subplots()\n",
    "    h = int(0.2 * len(study))\n",
    "    fig.set_size_inches(13,h )\n",
    "    cols = ['LTC 1' , 'ETH 1' ,'BTC 1' ,'BCH 1', \n",
    "            'LTC 5' , 'ETH 5' ,'BTC 5' ,'BCH 5',\n",
    "            'LTC 15', 'ETH 15','BTC 15','BCH 15',\n",
    "            'LTC 60', 'ETH 60','BTC 60','BCH 60']\n",
    "    \n",
    "    \n",
    "    sea.heatmap(study[cols].fillna(100).astype(int), annot = True, fmt = 'd', cmap ='magma')\n",
    "    plt.show()"
   ]
  },
  {
   "cell_type": "code",
   "execution_count": 23,
   "metadata": {
    "scrolled": false
   },
   "outputs": [
    {
     "ename": "InvalidIndexError",
     "evalue": "Reindexing only valid with uniquely valued Index objects",
     "output_type": "error",
     "traceback": [
      "\u001b[1;31m---------------------------------------------------------------------------\u001b[0m",
      "\u001b[1;31mInvalidIndexError\u001b[0m                         Traceback (most recent call last)",
      "\u001b[1;32m<ipython-input-23-f357e5fa7082>\u001b[0m in \u001b[0;36m<module>\u001b[1;34m()\u001b[0m\n\u001b[0;32m     41\u001b[0m             \u001b[0mbackdata\u001b[0m\u001b[1;33m.\u001b[0m\u001b[0mdata\u001b[0m\u001b[1;33m[\u001b[0m\u001b[0mpair_name\u001b[0m\u001b[1;33m]\u001b[0m\u001b[1;33m[\u001b[0m\u001b[0mtime_step\u001b[0m\u001b[1;33m]\u001b[0m \u001b[1;33m=\u001b[0m \u001b[0mcandles\u001b[0m\u001b[1;33m.\u001b[0m\u001b[0mdrop_duplicates\u001b[0m\u001b[1;33m(\u001b[0m\u001b[1;34m'timestamp'\u001b[0m\u001b[1;33m)\u001b[0m\u001b[1;33m\u001b[0m\u001b[0m\n\u001b[0;32m     42\u001b[0m             \u001b[0mcandles\u001b[0m \u001b[1;33m=\u001b[0m \u001b[0mbackdata\u001b[0m\u001b[1;33m.\u001b[0m\u001b[0mdata\u001b[0m\u001b[1;33m[\u001b[0m\u001b[0mpair_name\u001b[0m\u001b[1;33m]\u001b[0m\u001b[1;33m[\u001b[0m\u001b[0mtime_step\u001b[0m\u001b[1;33m]\u001b[0m\u001b[1;33m\u001b[0m\u001b[0m\n\u001b[1;32m---> 43\u001b[1;33m             \u001b[0msignal\u001b[0m \u001b[1;33m=\u001b[0m \u001b[0mget_signal\u001b[0m\u001b[1;33m(\u001b[0m\u001b[0mcandles\u001b[0m\u001b[1;33m,\u001b[0m \u001b[0maba\u001b[0m\u001b[1;33m,\u001b[0m \u001b[0msignal_time\u001b[0m\u001b[1;33m,\u001b[0m \u001b[0mdeviation\u001b[0m\u001b[1;33m,\u001b[0m \u001b[0mflip\u001b[0m\u001b[1;33m)\u001b[0m\u001b[1;33m\u001b[0m\u001b[0m\n\u001b[0m\u001b[0;32m     44\u001b[0m             \u001b[0mt\u001b[0m \u001b[1;33m=\u001b[0m \u001b[0mTester\u001b[0m\u001b[1;33m(\u001b[0m\u001b[1;33m)\u001b[0m\u001b[1;33m\u001b[0m\u001b[0m\n\u001b[0;32m     45\u001b[0m             \u001b[0mt\u001b[0m\u001b[1;33m.\u001b[0m\u001b[0mtest_signal\u001b[0m\u001b[1;33m(\u001b[0m\u001b[0mcandles\u001b[0m\u001b[1;33m[\u001b[0m\u001b[1;34m'close'\u001b[0m\u001b[1;33m]\u001b[0m\u001b[1;33m,\u001b[0m \u001b[0msignal\u001b[0m\u001b[1;33m)\u001b[0m\u001b[1;33m\u001b[0m\u001b[0m\n",
      "\u001b[1;32m<ipython-input-23-f357e5fa7082>\u001b[0m in \u001b[0;36mget_signal\u001b[1;34m(cans, aba, signal_time, deviation, flip)\u001b[0m\n\u001b[0;32m      1\u001b[0m \u001b[1;32mdef\u001b[0m \u001b[0mget_signal\u001b[0m\u001b[1;33m(\u001b[0m\u001b[0mcans\u001b[0m\u001b[1;33m,\u001b[0m \u001b[0maba\u001b[0m\u001b[1;33m,\u001b[0m \u001b[0msignal_time\u001b[0m\u001b[1;33m,\u001b[0m \u001b[0mdeviation\u001b[0m\u001b[1;33m,\u001b[0m \u001b[0mflip\u001b[0m\u001b[1;33m)\u001b[0m\u001b[1;33m:\u001b[0m\u001b[1;33m\u001b[0m\u001b[0m\n\u001b[0;32m      2\u001b[0m     \u001b[0msignal\u001b[0m \u001b[1;33m=\u001b[0m \u001b[0mpd\u001b[0m\u001b[1;33m.\u001b[0m\u001b[0mSeries\u001b[0m\u001b[1;33m(\u001b[0m\u001b[0mindex\u001b[0m \u001b[1;33m=\u001b[0m \u001b[0mcans\u001b[0m\u001b[1;33m.\u001b[0m\u001b[0mindex\u001b[0m\u001b[1;33m)\u001b[0m\u001b[1;33m\u001b[0m\u001b[0m\n\u001b[1;32m----> 3\u001b[1;33m     \u001b[0msignal\u001b[0m\u001b[1;33m[\u001b[0m\u001b[0msignal\u001b[0m\u001b[1;33m.\u001b[0m\u001b[0mindex\u001b[0m\u001b[1;33m]\u001b[0m \u001b[1;33m=\u001b[0m \u001b[1;34m'hold'\u001b[0m\u001b[1;33m\u001b[0m\u001b[0m\n\u001b[0m\u001b[0;32m      4\u001b[0m \u001b[1;33m\u001b[0m\u001b[0m\n\u001b[0;32m      5\u001b[0m \u001b[1;33m\u001b[0m\u001b[0m\n",
      "\u001b[1;32m~\\Anaconda3\\lib\\site-packages\\pandas\\core\\series.py\u001b[0m in \u001b[0;36m__setitem__\u001b[1;34m(self, key, value)\u001b[0m\n\u001b[0;32m    769\u001b[0m         \u001b[1;31m# do the setitem\u001b[0m\u001b[1;33m\u001b[0m\u001b[1;33m\u001b[0m\u001b[0m\n\u001b[0;32m    770\u001b[0m         \u001b[0mcacher_needs_updating\u001b[0m \u001b[1;33m=\u001b[0m \u001b[0mself\u001b[0m\u001b[1;33m.\u001b[0m\u001b[0m_check_is_chained_assignment_possible\u001b[0m\u001b[1;33m(\u001b[0m\u001b[1;33m)\u001b[0m\u001b[1;33m\u001b[0m\u001b[0m\n\u001b[1;32m--> 771\u001b[1;33m         \u001b[0msetitem\u001b[0m\u001b[1;33m(\u001b[0m\u001b[0mkey\u001b[0m\u001b[1;33m,\u001b[0m \u001b[0mvalue\u001b[0m\u001b[1;33m)\u001b[0m\u001b[1;33m\u001b[0m\u001b[0m\n\u001b[0m\u001b[0;32m    772\u001b[0m         \u001b[1;32mif\u001b[0m \u001b[0mcacher_needs_updating\u001b[0m\u001b[1;33m:\u001b[0m\u001b[1;33m\u001b[0m\u001b[0m\n\u001b[0;32m    773\u001b[0m             \u001b[0mself\u001b[0m\u001b[1;33m.\u001b[0m\u001b[0m_maybe_update_cacher\u001b[0m\u001b[1;33m(\u001b[0m\u001b[1;33m)\u001b[0m\u001b[1;33m\u001b[0m\u001b[0m\n",
      "\u001b[1;32m~\\Anaconda3\\lib\\site-packages\\pandas\\core\\series.py\u001b[0m in \u001b[0;36msetitem\u001b[1;34m(key, value)\u001b[0m\n\u001b[0;32m    765\u001b[0m                     \u001b[1;32mpass\u001b[0m\u001b[1;33m\u001b[0m\u001b[0m\n\u001b[0;32m    766\u001b[0m \u001b[1;33m\u001b[0m\u001b[0m\n\u001b[1;32m--> 767\u001b[1;33m             \u001b[0mself\u001b[0m\u001b[1;33m.\u001b[0m\u001b[0m_set_with\u001b[0m\u001b[1;33m(\u001b[0m\u001b[0mkey\u001b[0m\u001b[1;33m,\u001b[0m \u001b[0mvalue\u001b[0m\u001b[1;33m)\u001b[0m\u001b[1;33m\u001b[0m\u001b[0m\n\u001b[0m\u001b[0;32m    768\u001b[0m \u001b[1;33m\u001b[0m\u001b[0m\n\u001b[0;32m    769\u001b[0m         \u001b[1;31m# do the setitem\u001b[0m\u001b[1;33m\u001b[0m\u001b[1;33m\u001b[0m\u001b[0m\n",
      "\u001b[1;32m~\\Anaconda3\\lib\\site-packages\\pandas\\core\\series.py\u001b[0m in \u001b[0;36m_set_with\u001b[1;34m(self, key, value)\u001b[0m\n\u001b[0;32m    813\u001b[0m                 \u001b[0mself\u001b[0m\u001b[1;33m.\u001b[0m\u001b[0m_set_values\u001b[0m\u001b[1;33m(\u001b[0m\u001b[0mkey\u001b[0m\u001b[1;33m.\u001b[0m\u001b[0mastype\u001b[0m\u001b[1;33m(\u001b[0m\u001b[0mnp\u001b[0m\u001b[1;33m.\u001b[0m\u001b[0mbool_\u001b[0m\u001b[1;33m)\u001b[0m\u001b[1;33m,\u001b[0m \u001b[0mvalue\u001b[0m\u001b[1;33m)\u001b[0m\u001b[1;33m\u001b[0m\u001b[0m\n\u001b[0;32m    814\u001b[0m             \u001b[1;32melse\u001b[0m\u001b[1;33m:\u001b[0m\u001b[1;33m\u001b[0m\u001b[0m\n\u001b[1;32m--> 815\u001b[1;33m                 \u001b[0mself\u001b[0m\u001b[1;33m.\u001b[0m\u001b[0m_set_labels\u001b[0m\u001b[1;33m(\u001b[0m\u001b[0mkey\u001b[0m\u001b[1;33m,\u001b[0m \u001b[0mvalue\u001b[0m\u001b[1;33m)\u001b[0m\u001b[1;33m\u001b[0m\u001b[0m\n\u001b[0m\u001b[0;32m    816\u001b[0m \u001b[1;33m\u001b[0m\u001b[0m\n\u001b[0;32m    817\u001b[0m     \u001b[1;32mdef\u001b[0m \u001b[0m_set_labels\u001b[0m\u001b[1;33m(\u001b[0m\u001b[0mself\u001b[0m\u001b[1;33m,\u001b[0m \u001b[0mkey\u001b[0m\u001b[1;33m,\u001b[0m \u001b[0mvalue\u001b[0m\u001b[1;33m)\u001b[0m\u001b[1;33m:\u001b[0m\u001b[1;33m\u001b[0m\u001b[0m\n",
      "\u001b[1;32m~\\Anaconda3\\lib\\site-packages\\pandas\\core\\series.py\u001b[0m in \u001b[0;36m_set_labels\u001b[1;34m(self, key, value)\u001b[0m\n\u001b[0;32m    820\u001b[0m         \u001b[1;32melse\u001b[0m\u001b[1;33m:\u001b[0m\u001b[1;33m\u001b[0m\u001b[0m\n\u001b[0;32m    821\u001b[0m             \u001b[0mkey\u001b[0m \u001b[1;33m=\u001b[0m \u001b[0m_asarray_tuplesafe\u001b[0m\u001b[1;33m(\u001b[0m\u001b[0mkey\u001b[0m\u001b[1;33m)\u001b[0m\u001b[1;33m\u001b[0m\u001b[0m\n\u001b[1;32m--> 822\u001b[1;33m         \u001b[0mindexer\u001b[0m \u001b[1;33m=\u001b[0m \u001b[0mself\u001b[0m\u001b[1;33m.\u001b[0m\u001b[0mindex\u001b[0m\u001b[1;33m.\u001b[0m\u001b[0mget_indexer\u001b[0m\u001b[1;33m(\u001b[0m\u001b[0mkey\u001b[0m\u001b[1;33m)\u001b[0m\u001b[1;33m\u001b[0m\u001b[0m\n\u001b[0m\u001b[0;32m    823\u001b[0m         \u001b[0mmask\u001b[0m \u001b[1;33m=\u001b[0m \u001b[0mindexer\u001b[0m \u001b[1;33m==\u001b[0m \u001b[1;33m-\u001b[0m\u001b[1;36m1\u001b[0m\u001b[1;33m\u001b[0m\u001b[0m\n\u001b[0;32m    824\u001b[0m         \u001b[1;32mif\u001b[0m \u001b[0mmask\u001b[0m\u001b[1;33m.\u001b[0m\u001b[0many\u001b[0m\u001b[1;33m(\u001b[0m\u001b[1;33m)\u001b[0m\u001b[1;33m:\u001b[0m\u001b[1;33m\u001b[0m\u001b[0m\n",
      "\u001b[1;32m~\\Anaconda3\\lib\\site-packages\\pandas\\core\\indexes\\base.py\u001b[0m in \u001b[0;36mget_indexer\u001b[1;34m(self, target, method, limit, tolerance)\u001b[0m\n\u001b[0;32m   2581\u001b[0m \u001b[1;33m\u001b[0m\u001b[0m\n\u001b[0;32m   2582\u001b[0m         \u001b[1;32mif\u001b[0m \u001b[1;32mnot\u001b[0m \u001b[0mself\u001b[0m\u001b[1;33m.\u001b[0m\u001b[0mis_unique\u001b[0m\u001b[1;33m:\u001b[0m\u001b[1;33m\u001b[0m\u001b[0m\n\u001b[1;32m-> 2583\u001b[1;33m             raise InvalidIndexError('Reindexing only valid with uniquely'\n\u001b[0m\u001b[0;32m   2584\u001b[0m                                     ' valued Index objects')\n\u001b[0;32m   2585\u001b[0m \u001b[1;33m\u001b[0m\u001b[0m\n",
      "\u001b[1;31mInvalidIndexError\u001b[0m: Reindexing only valid with uniquely valued Index objects"
     ]
    }
   ],
   "source": [
    "def get_signal(cans, aba, signal_time, deviation, flip):\n",
    "    signal = pd.Series(index = cans.index)\n",
    "    signal[signal.index] = 'hold'\n",
    "    \n",
    "    \n",
    "    bands = aba.get_bollinger(cans, signal_time, deviation)\n",
    "    \n",
    "    bmask = cans['close'].rolling(3).mean().bfill() < bands['lower']\n",
    "    smask = cans['close'].rolling(3).mean().bfill() > bands['upper'] \n",
    "    \n",
    "    if flip:\n",
    "        bmask,smask = smask,bmask\n",
    "    \n",
    "    signal.loc[bmask] = 'buy'\n",
    "    signal.loc[smask] = 'sell'\n",
    "    return signal\n",
    "\n",
    "\n",
    "bollinger_study = pd.DataFrame()\n",
    "bar = rt.progress_bar(1000)\n",
    "for num in range(0, 1000):\n",
    "    position = len(bollinger_study) \n",
    "\n",
    "    signal_time = np.random.randint(400, 600)\n",
    "    deviation = np.random.randint(3100, 3800)/1000\n",
    "    max_loss = np.random.randint(0, 300)/1000\n",
    "    target_percent = np.random.randint(0, 300)/1000\n",
    "    flip = bool(np.random.randint(0, 2))\n",
    "\n",
    "    bollinger_study.loc[position, 'signal_time'] = signal_time\n",
    "    bollinger_study.loc[position, 'deviation'] = deviation\n",
    "    bollinger_study.loc[position, 'max_loss'] = max_loss\n",
    "    bollinger_study.loc[position, 'target_percent'] = target_percent\n",
    "    bollinger_study.loc[position, 'flip'] = flip\n",
    "\n",
    "    for pair_name in backdata.data.keys():\n",
    "        aba = backdata.abas[pair_name]\n",
    "        pair = backdata.data[pair_name]\n",
    "        for time_step in pair.keys():\n",
    "            candles = pair[time_step]\n",
    "            backdata.data[pair_name][time_step] = candles.drop_duplicates('timestamp')\n",
    "            candles = backdata.data[pair_name][time_step]\n",
    "            signal = get_signal(candles, aba, signal_time, deviation, flip)\n",
    "            t = Tester()\n",
    "            t.test_signal(candles['close'], signal)\n",
    "            cash = t.cash\n",
    "            if flip:\n",
    "                cash = t.cash - t.cost\n",
    "            if cash < 100:\n",
    "                cash = 98\n",
    "            bollinger_study.loc[position, '{} {}'.format(pair_name, int(time_step/60))] = cash\n",
    "    if position > 5:\n",
    "        check_study(bollinger_study)\n",
    "    print(bollinger_study)\n",
    "    bar.progress()\n",
    "    "
   ]
  },
  {
   "cell_type": "code",
   "execution_count": null,
   "metadata": {},
   "outputs": [],
   "source": [
    "def get_score(x):\n",
    "    score = []\n",
    "    for index in x.index:\n",
    "        vals = x.loc[index]\n",
    "        score.append(np.mean(vals.sort_values(ascending = True)[0:3]))\n",
    "    return score\n",
    "\n"
   ]
  },
  {
   "cell_type": "code",
   "execution_count": null,
   "metadata": {},
   "outputs": [],
   "source": [
    "x = bollinger_study.copy()\n",
    "x['score'] = get_score(x[['ETH 1','BTC 1', 'LTC 1', 'BCH 1']])\n",
    "x = x.sort_values('score', ascending= False)"
   ]
  },
  {
   "cell_type": "code",
   "execution_count": null,
   "metadata": {
    "scrolled": false
   },
   "outputs": [],
   "source": [
    "sea.lmplot('signal_time', 'score', x)\n",
    "plt.show()\n",
    "sea.lmplot('deviation', 'score', x)\n",
    "plt.show()\n",
    "sea.lmplot('target_percent', 'score', x)\n",
    "plt.show()\n",
    "sea.lmplot('max_loss', 'score', x)\n",
    "plt.show()"
   ]
  },
  {
   "cell_type": "code",
   "execution_count": null,
   "metadata": {},
   "outputs": [],
   "source": [
    "from scipy.optimize import curve_fit\n",
    "import scipy"
   ]
  },
  {
   "cell_type": "code",
   "execution_count": null,
   "metadata": {
    "collapsed": true
   },
   "outputs": [],
   "source": [
    "X = x[['signal_time', 'deviation', 'max_loss', 'target_percent']].values\n",
    "y = x['score'].values"
   ]
  },
  {
   "cell_type": "code",
   "execution_count": null,
   "metadata": {},
   "outputs": [],
   "source": [
    "import statsmodels.api as sm\n",
    "\n",
    "\n",
    "reg = sm.OLS(endog=y, exog=X).fit()\n"
   ]
  },
  {
   "cell_type": "code",
   "execution_count": null,
   "metadata": {},
   "outputs": [],
   "source": [
    "reg.summary()"
   ]
  },
  {
   "cell_type": "code",
   "execution_count": null,
   "metadata": {
    "scrolled": false
   },
   "outputs": [],
   "source": [
    "\n",
    "check_study(x)\n",
    "print(x)"
   ]
  },
  {
   "cell_type": "code",
   "execution_count": null,
   "metadata": {
    "collapsed": true
   },
   "outputs": [],
   "source": [
    "for thing in ['signal_time', 'deviation', 'max_loss', 'target_percent']:\n",
    "    sea.distplot(x)"
   ]
  }
 ],
 "metadata": {
  "kernelspec": {
   "display_name": "Python 3",
   "language": "python",
   "name": "python3"
  },
  "language_info": {
   "codemirror_mode": {
    "name": "ipython",
    "version": 3
   },
   "file_extension": ".py",
   "mimetype": "text/x-python",
   "name": "python",
   "nbconvert_exporter": "python",
   "pygments_lexer": "ipython3",
   "version": "3.6.3"
  }
 },
 "nbformat": 4,
 "nbformat_minor": 2
}
